{
  "nbformat": 4,
  "nbformat_minor": 0,
  "metadata": {
    "colab": {
      "provenance": [],
      "authorship_tag": "ABX9TyNPy5c6WLz2NnIRzRhR995k",
      "include_colab_link": true
    },
    "kernelspec": {
      "name": "python3",
      "display_name": "Python 3"
    },
    "language_info": {
      "name": "python"
    }
  },
  "cells": [
    {
      "cell_type": "markdown",
      "metadata": {
        "id": "view-in-github",
        "colab_type": "text"
      },
      "source": [
        "<a href=\"https://colab.research.google.com/github/Mawellll/CPE313-Activities/blob/main/Abo_CPE32S8.ipynb\" target=\"_parent\"><img src=\"https://colab.research.google.com/assets/colab-badge.svg\" alt=\"Open In Colab\"/></a>"
      ]
    },
    {
      "cell_type": "code",
      "execution_count": 1,
      "metadata": {
        "id": "DMmr8uiUKt09"
      },
      "outputs": [],
      "source": [
        "import numpy, random, os\n",
        "weights = [random.random(),random.random(),random.random()] #3 random weights"
      ]
    },
    {
      "cell_type": "code",
      "source": [
        "class neuron:\n",
        "    def __init__(self, weights, input):\n",
        "        self.weights = weights\n",
        "        self.input = input\n",
        "\n",
        "    def relu_function(self):\n",
        "      x = self.adder()\n",
        "      if x > 0:\n",
        "        return int(x)\n",
        "      return 0\n",
        "\n",
        "\n",
        "    def adder(self):\n",
        "      output = 0\n",
        "      for i in range (len(self.weights)):\n",
        "        output += self.weights[i]*self.input[i]\n",
        "      return output\n",
        "\n"
      ],
      "metadata": {
        "id": "-gMCRyNMTQ_s"
      },
      "execution_count": 2,
      "outputs": []
    },
    {
      "cell_type": "code",
      "source": [
        "import numpy as np\n",
        "\n",
        "weight = [1,3,5,7,9]\n",
        "input = [5,6,7,8,9]\n",
        "\n",
        "n = neuron(weight, input)\n",
        "print(n.relu_function())"
      ],
      "metadata": {
        "colab": {
          "base_uri": "https://localhost:8080/"
        },
        "id": "JUqriC_5VTFl",
        "outputId": "b6ce9285-ccca-42d5-e94d-877f5c47ff0a"
      },
      "execution_count": 3,
      "outputs": [
        {
          "output_type": "stream",
          "name": "stdout",
          "text": [
            "195\n"
          ]
        }
      ]
    },
    {
      "cell_type": "code",
      "source": [],
      "metadata": {
        "id": "_av1VTAvfiyM"
      },
      "execution_count": null,
      "outputs": []
    }
  ]
}