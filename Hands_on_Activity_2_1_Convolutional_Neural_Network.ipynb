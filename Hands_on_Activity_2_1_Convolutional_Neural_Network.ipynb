{
  "cells": [
    {
      "cell_type": "markdown",
      "id": "historic-trainer",
      "metadata": {
        "id": "historic-trainer"
      },
      "source": [
        "# Activity 2.1 : Convolutional Neural Network"
      ]
    },
    {
      "cell_type": "markdown",
      "id": "olive-manner",
      "metadata": {
        "id": "olive-manner"
      },
      "source": [
        "#### Objective(s):\n",
        "\n",
        "This activity aims to introduce how to build a convolutional neural network"
      ]
    },
    {
      "cell_type": "markdown",
      "id": "happy-transport",
      "metadata": {
        "id": "happy-transport"
      },
      "source": [
        "#### Intended Learning Outcomes (ILOs):\n",
        "* Demonstrate how to build and train convolutional neural network\n",
        "* Evaluate the accuracy and loss of the model using convolutional neural network"
      ]
    },
    {
      "cell_type": "markdown",
      "id": "leading-providence",
      "metadata": {
        "id": "leading-providence"
      },
      "source": [
        "#### Resources:\n",
        "* Jupyter Notebook\n",
        "* CIFAR-10 dataset"
      ]
    },
    {
      "cell_type": "markdown",
      "id": "literary-trail",
      "metadata": {
        "id": "literary-trail"
      },
      "source": [
        "#### Procedures\n",
        "Load the necessary libraries"
      ]
    },
    {
      "cell_type": "code",
      "execution_count": 1,
      "id": "stretch-active",
      "metadata": {
        "id": "stretch-active"
      },
      "outputs": [],
      "source": [
        "from __future__ import print_function\n",
        "import keras\n",
        "from keras.datasets import cifar10\n",
        "from keras.preprocessing.image import ImageDataGenerator\n",
        "from keras.models import Sequential\n",
        "from keras.layers import Dense, Dropout, Activation, Flatten\n",
        "from keras.layers import Conv2D, MaxPooling2D\n",
        "\n",
        "import matplotlib.pyplot as plt\n",
        "%matplotlib inline"
      ]
    },
    {
      "cell_type": "markdown",
      "id": "collaborative-seating",
      "metadata": {
        "id": "collaborative-seating"
      },
      "source": [
        "* Shuffle the data\n",
        "* Split the data into train and test sets"
      ]
    },
    {
      "cell_type": "code",
      "execution_count": 2,
      "id": "modular-springer",
      "metadata": {
        "colab": {
          "base_uri": "https://localhost:8080/"
        },
        "id": "modular-springer",
        "outputId": "2afef46e-7f7c-421a-aecc-6e46802ca33e"
      },
      "outputs": [
        {
          "output_type": "stream",
          "name": "stdout",
          "text": [
            "x_train shape: (50000, 32, 32, 3)\n",
            "50000 train samples\n",
            "10000 test samples\n"
          ]
        }
      ],
      "source": [
        "\n",
        "(x_train, y_train), (x_test, y_test) = cifar10.load_data()\n",
        "print('x_train shape:', x_train.shape)\n",
        "print(x_train.shape[0], 'train samples')\n",
        "print(x_test.shape[0], 'test samples')"
      ]
    },
    {
      "cell_type": "markdown",
      "id": "female-carolina",
      "metadata": {
        "id": "female-carolina"
      },
      "source": [
        "Check the image size"
      ]
    },
    {
      "cell_type": "code",
      "execution_count": 3,
      "id": "alleged-stephen",
      "metadata": {
        "colab": {
          "base_uri": "https://localhost:8080/"
        },
        "id": "alleged-stephen",
        "outputId": "481511e6-e665-4adf-a6e1-cf3196dcabc2"
      },
      "outputs": [
        {
          "output_type": "execute_result",
          "data": {
            "text/plain": [
              "(32, 32, 3)"
            ]
          },
          "metadata": {},
          "execution_count": 3
        }
      ],
      "source": [
        "\n",
        "x_train[444].shape"
      ]
    },
    {
      "cell_type": "markdown",
      "id": "conscious-twenty",
      "metadata": {
        "id": "conscious-twenty"
      },
      "source": [
        "Visualize one of the images"
      ]
    },
    {
      "cell_type": "code",
      "execution_count": 4,
      "id": "positive-creation",
      "metadata": {
        "colab": {
          "base_uri": "https://localhost:8080/",
          "height": 447
        },
        "id": "positive-creation",
        "outputId": "65ca1014-601a-4032-faa8-69da2158ad10"
      },
      "outputs": [
        {
          "output_type": "stream",
          "name": "stdout",
          "text": [
            "[9]\n"
          ]
        },
        {
          "output_type": "display_data",
          "data": {
            "text/plain": [
              "<Figure size 640x480 with 1 Axes>"
            ],
            "image/png": "[encoded data removed]"
          },
          "metadata": {}
        }
      ],
      "source": [
        "print(y_train[444])\n",
        "plt.imshow(x_train[444]);"
      ]
    },
    {
      "cell_type": "code",
      "execution_count": 5,
      "id": "animated-rotation",
      "metadata": {
        "id": "animated-rotation"
      },
      "outputs": [],
      "source": [
        "num_classes = 10\n",
        "\n",
        "y_train = keras.utils.to_categorical(y_train, num_classes)\n",
        "y_test = keras.utils.to_categorical(y_test, num_classes)"
      ]
    },
    {
      "cell_type": "markdown",
      "id": "severe-filing",
      "metadata": {
        "id": "severe-filing"
      },
      "source": [
        "Instead of classes described by an integer between 0-9 we have a vector with a 1 in the (Pythonic) 9th position"
      ]
    },
    {
      "cell_type": "code",
      "execution_count": 6,
      "id": "genetic-centre",
      "metadata": {
        "colab": {
          "base_uri": "https://localhost:8080/"
        },
        "id": "genetic-centre",
        "outputId": "d5b1c86c-4615-4d3d-9900-dfd3bd8e0c47"
      },
      "outputs": [
        {
          "output_type": "execute_result",
          "data": {
            "text/plain": [
              "array([0., 0., 0., 0., 0., 0., 0., 0., 0., 1.], dtype=float32)"
            ]
          },
          "metadata": {},
          "execution_count": 6
        }
      ],
      "source": [
        "y_train[444]"
      ]
    },
    {
      "cell_type": "markdown",
      "id": "detected-education",
      "metadata": {
        "id": "detected-education"
      },
      "source": [
        "Convert to float and scale the datasets"
      ]
    },
    {
      "cell_type": "code",
      "execution_count": 7,
      "id": "familiar-damages",
      "metadata": {
        "id": "familiar-damages"
      },
      "outputs": [],
      "source": [
        "x_train = x_train.astype('float32')\n",
        "x_test = x_test.astype('float32')\n",
        "x_train /= 255\n",
        "x_test /= 255"
      ]
    },
    {
      "cell_type": "markdown",
      "id": "bizarre-smith",
      "metadata": {
        "id": "bizarre-smith"
      },
      "source": [
        "Build a CNN using Keras Sequential"
      ]
    },
    {
      "cell_type": "code",
      "execution_count": 8,
      "id": "understanding-milan",
      "metadata": {
        "colab": {
          "base_uri": "https://localhost:8080/"
        },
        "id": "understanding-milan",
        "outputId": "66e1a49c-1f5c-401f-d918-6321969654f3"
      },
      "outputs": [
        {
          "output_type": "stream",
          "name": "stdout",
          "text": [
            "Model: \"sequential\"\n",
            "_________________________________________________________________\n",
            " Layer (type)                Output Shape              Param #   \n",
            "=================================================================\n",
            " conv2d (Conv2D)             (None, 16, 16, 32)        2432      \n",
            "                                                                 \n",
            " activation (Activation)     (None, 16, 16, 32)        0         \n",
            "                                                                 \n",
            " conv2d_1 (Conv2D)           (None, 6, 6, 32)          25632     \n",
            "                                                                 \n",
            " activation_1 (Activation)   (None, 6, 6, 32)          0         \n",
            "                                                                 \n",
            " max_pooling2d (MaxPooling2  (None, 3, 3, 32)          0         \n",
            " D)                                                              \n",
            "                                                                 \n",
            " dropout (Dropout)           (None, 3, 3, 32)          0         \n",
            "                                                                 \n",
            " flatten (Flatten)           (None, 288)               0         \n",
            "                                                                 \n",
            " dense (Dense)               (None, 512)               147968    \n",
            "                                                                 \n",
            " activation_2 (Activation)   (None, 512)               0         \n",
            "                                                                 \n",
            " dropout_1 (Dropout)         (None, 512)               0         \n",
            "                                                                 \n",
            " dense_1 (Dense)             (None, 10)                5130      \n",
            "                                                                 \n",
            " activation_3 (Activation)   (None, 10)                0         \n",
            "                                                                 \n",
            "=================================================================\n",
            "Total params: 181162 (707.66 KB)\n",
            "Trainable params: 181162 (707.66 KB)\n",
            "Non-trainable params: 0 (0.00 Byte)\n",
            "_________________________________________________________________\n"
          ]
        }
      ],
      "source": [
        "\n",
        "model_1 = Sequential()\n",
        "\n",
        "\n",
        "## 5x5 convolution with 2x2 stride and 32 filters\n",
        "model_1.add(Conv2D(32, (5, 5), strides = (2,2), padding='same',\n",
        "                 input_shape=x_train.shape[1:]))\n",
        "model_1.add(Activation('relu'))\n",
        "\n",
        "## Another 5x5 convolution with 2x2 stride and 32 filters\n",
        "model_1.add(Conv2D(32, (5, 5), strides = (2,2)))\n",
        "model_1.add(Activation('relu'))\n",
        "\n",
        "## 2x2 max pooling reduces to 3 x 3 x 32\n",
        "model_1.add(MaxPooling2D(pool_size=(2, 2)))\n",
        "model_1.add(Dropout(0.25))\n",
        "\n",
        "## Flatten turns 3x3x32 into 288x1\n",
        "model_1.add(Flatten())\n",
        "model_1.add(Dense(512))\n",
        "model_1.add(Activation('relu'))\n",
        "model_1.add(Dropout(0.5))\n",
        "model_1.add(Dense(num_classes))\n",
        "model_1.add(Activation('softmax'))\n",
        "\n",
        "model_1.summary()"
      ]
    },
    {
      "cell_type": "markdown",
      "id": "baking-portable",
      "metadata": {
        "id": "baking-portable"
      },
      "source": [
        "* Use batch size of 32\n",
        "* Initiate RMSprop optimizer\n",
        "* Train the model using RMSprop"
      ]
    },
    {
      "cell_type": "code",
      "execution_count": 9,
      "id": "removed-memorial",
      "metadata": {
        "colab": {
          "base_uri": "https://localhost:8080/"
        },
        "id": "removed-memorial",
        "outputId": "fa9bf01c-4e90-49b1-abda-725d91359e88"
      },
      "outputs": [
        {
          "output_type": "stream",
          "name": "stderr",
          "text": [
            "WARNING:absl:`lr` is deprecated in Keras optimizer, please use `learning_rate` or use the legacy optimizer, e.g.,tf.keras.optimizers.legacy.RMSprop.\n"
          ]
        },
        {
          "output_type": "stream",
          "name": "stdout",
          "text": [
            "Epoch 1/15\n",
            "1563/1563 [==============================] - 34s 21ms/step - loss: 1.7022 - accuracy: 0.3791 - val_loss: 1.3888 - val_accuracy: 0.5057\n",
            "Epoch 2/15\n",
            "1563/1563 [==============================] - 34s 22ms/step - loss: 1.4462 - accuracy: 0.4847 - val_loss: 1.3171 - val_accuracy: 0.5244\n",
            "Epoch 3/15\n",
            "1563/1563 [==============================] - 33s 21ms/step - loss: 1.3678 - accuracy: 0.5144 - val_loss: 1.3094 - val_accuracy: 0.5404\n",
            "Epoch 4/15\n",
            "1563/1563 [==============================] - 32s 20ms/step - loss: 1.3227 - accuracy: 0.5340 - val_loss: 1.2316 - val_accuracy: 0.5705\n",
            "Epoch 5/15\n",
            "1563/1563 [==============================] - 53s 34ms/step - loss: 1.2988 - accuracy: 0.5441 - val_loss: 1.2245 - val_accuracy: 0.5693\n",
            "Epoch 6/15\n",
            "1563/1563 [==============================] - 34s 22ms/step - loss: 1.2826 - accuracy: 0.5516 - val_loss: 1.2162 - val_accuracy: 0.5864\n",
            "Epoch 7/15\n",
            "1563/1563 [==============================] - 31s 20ms/step - loss: 1.2769 - accuracy: 0.5603 - val_loss: 1.1666 - val_accuracy: 0.5981\n",
            "Epoch 8/15\n",
            "1563/1563 [==============================] - 33s 21ms/step - loss: 1.2709 - accuracy: 0.5616 - val_loss: 1.1859 - val_accuracy: 0.5886\n",
            "Epoch 9/15\n",
            "1563/1563 [==============================] - 32s 21ms/step - loss: 1.2627 - accuracy: 0.5663 - val_loss: 1.4175 - val_accuracy: 0.5189\n",
            "Epoch 10/15\n",
            "1563/1563 [==============================] - 32s 21ms/step - loss: 1.2687 - accuracy: 0.5673 - val_loss: 1.1727 - val_accuracy: 0.5957\n",
            "Epoch 11/15\n",
            "1563/1563 [==============================] - 31s 20ms/step - loss: 1.2799 - accuracy: 0.5673 - val_loss: 1.1920 - val_accuracy: 0.6053\n",
            "Epoch 12/15\n",
            "1563/1563 [==============================] - 32s 20ms/step - loss: 1.2750 - accuracy: 0.5696 - val_loss: 1.4549 - val_accuracy: 0.5033\n",
            "Epoch 13/15\n",
            "1563/1563 [==============================] - 38s 24ms/step - loss: 1.2754 - accuracy: 0.5715 - val_loss: 1.2121 - val_accuracy: 0.5909\n",
            "Epoch 14/15\n",
            "1563/1563 [==============================] - 32s 21ms/step - loss: 1.2863 - accuracy: 0.5687 - val_loss: 1.5259 - val_accuracy: 0.5199\n",
            "Epoch 15/15\n",
            "1563/1563 [==============================] - 32s 21ms/step - loss: 1.2996 - accuracy: 0.5625 - val_loss: 1.3439 - val_accuracy: 0.5443\n"
          ]
        },
        {
          "output_type": "execute_result",
          "data": {
            "text/plain": [
              "<keras.src.callbacks.History at 0x7c36c9ed6080>"
            ]
          },
          "metadata": {},
          "execution_count": 9
        }
      ],
      "source": [
        "batch_size = 32\n",
        "\n",
        "opt = keras.optimizers.RMSprop(lr=0.0005)\n",
        "\n",
        "\n",
        "model_1.compile(loss='categorical_crossentropy',\n",
        "              optimizer=opt,\n",
        "              metrics=['accuracy'])\n",
        "\n",
        "model_1.fit(x_train, y_train,\n",
        "              batch_size=batch_size,\n",
        "              epochs=15,\n",
        "              validation_data=(x_test, y_test))"
      ]
    },
    {
      "cell_type": "markdown",
      "id": "jewish-lambda",
      "metadata": {
        "id": "jewish-lambda"
      },
      "source": [
        "#### Supplementary Activity"
      ]
    },
    {
      "cell_type": "markdown",
      "id": "southeast-theater",
      "metadata": {
        "id": "southeast-theater"
      },
      "source": [
        "* Build a more complicated model with the following pattern:\n",
        "Conv -> Conv -> MaxPool -> Conv -> Conv -> MaxPool -> (Flatten) -> Dense -> Final Classification\n",
        "\n",
        "* Use strides of 1 for all convolutional layers.\n",
        "\n",
        "* Write the number of parameters of your model  and compare it to the previous model\n",
        "\n",
        "* Train it for 5 epochs. Commpare the training time, loss and accuracy numbers (on both the training and validation sets)?\n",
        "\n",
        "* Use different structures and run times, and see how accurate your model can be."
      ]
    },
    {
      "cell_type": "code",
      "source": [
        "supple_model = Sequential()\n",
        "\n",
        "## 5x5 convolution with 1x1 stride and 32 filters\n",
        "supple_model.add(Conv2D(32, (5, 5), strides=(1, 1), padding='same', input_shape=x_train.shape[1:]))\n",
        "supple_model.add(Activation('relu'))\n",
        "\n",
        "## Another 5x5 convolution with 1x1 stride and 32 filters\n",
        "supple_model.add(Conv2D(32, (5, 5), strides=(1, 1), padding='same'))\n",
        "supple_model.add(Activation('relu'))\n",
        "\n",
        "## 2x2 max pooling reduces to 3 x 3 x 32\n",
        "supple_model.add(MaxPooling2D(pool_size=(2, 2)))\n",
        "supple_model.add(Dropout(0.25))\n",
        "\n",
        "## Another 5x5 convolution with 1x1 stride and 32 filters\n",
        "supple_model.add(Conv2D(32, (5, 5), strides=(1, 1), padding='same'))\n",
        "supple_model.add(Activation('relu'))\n",
        "\n",
        "## Another 5x5 convolution with 1x1 stride and 32 filters\n",
        "supple_model.add(Conv2D(32, (5, 5), strides=(1, 1), padding='same'))\n",
        "supple_model.add(Activation('relu'))\n",
        "\n",
        "## 2x2 max pooling reduces to 3 x 3 x 32\n",
        "supple_model.add(MaxPooling2D(pool_size=(2, 2)))\n",
        "supple_model.add(Dropout(0.25))\n",
        "\n",
        "## Flatten turns 3x3x32 into 288x1\n",
        "supple_model.add(Flatten())\n",
        "supple_model.add(Dense(512))\n",
        "supple_model.add(Activation('relu'))\n",
        "supple_model.add(Dropout(0.5))\n",
        "supple_model.add(Dense(num_classes))\n",
        "supple_model.add(Activation('softmax'))\n",
        "\n",
        "supple_model.summary()"
      ],
      "metadata": {
        "id": "Mk0eViy1AzAJ",
        "colab": {
          "base_uri": "https://localhost:8080/"
        },
        "outputId": "0bc18d5d-2ac6-4b18-9420-83bd95ad0882"
      },
      "id": "Mk0eViy1AzAJ",
      "execution_count": 16,
      "outputs": [
        {
          "output_type": "stream",
          "name": "stdout",
          "text": [
            "Model: \"sequential_7\"\n",
            "_________________________________________________________________\n",
            " Layer (type)                Output Shape              Param #   \n",
            "=================================================================\n",
            " conv2d_26 (Conv2D)          (None, 32, 32, 32)        2432      \n",
            "                                                                 \n",
            " activation_22 (Activation)  (None, 32, 32, 32)        0         \n",
            "                                                                 \n",
            " conv2d_27 (Conv2D)          (None, 32, 32, 32)        25632     \n",
            "                                                                 \n",
            " activation_23 (Activation)  (None, 32, 32, 32)        0         \n",
            "                                                                 \n",
            " max_pooling2d_7 (MaxPoolin  (None, 16, 16, 32)        0         \n",
            " g2D)                                                            \n",
            "                                                                 \n",
            " dropout_7 (Dropout)         (None, 16, 16, 32)        0         \n",
            "                                                                 \n",
            " conv2d_28 (Conv2D)          (None, 16, 16, 32)        25632     \n",
            "                                                                 \n",
            " activation_24 (Activation)  (None, 16, 16, 32)        0         \n",
            "                                                                 \n",
            " conv2d_29 (Conv2D)          (None, 16, 16, 32)        25632     \n",
            "                                                                 \n",
            " activation_25 (Activation)  (None, 16, 16, 32)        0         \n",
            "                                                                 \n",
            " max_pooling2d_8 (MaxPoolin  (None, 8, 8, 32)          0         \n",
            " g2D)                                                            \n",
            "                                                                 \n",
            " dropout_8 (Dropout)         (None, 8, 8, 32)          0         \n",
            "                                                                 \n",
            " flatten_1 (Flatten)         (None, 2048)              0         \n",
            "                                                                 \n",
            " dense_2 (Dense)             (None, 512)               1049088   \n",
            "                                                                 \n",
            " activation_26 (Activation)  (None, 512)               0         \n",
            "                                                                 \n",
            " dropout_9 (Dropout)         (None, 512)               0         \n",
            "                                                                 \n",
            " dense_3 (Dense)             (None, 10)                5130      \n",
            "                                                                 \n",
            " activation_27 (Activation)  (None, 10)                0         \n",
            "                                                                 \n",
            "=================================================================\n",
            "Total params: 1133546 (4.32 MB)\n",
            "Trainable params: 1133546 (4.32 MB)\n",
            "Non-trainable params: 0 (0.00 Byte)\n",
            "_________________________________________________________________\n"
          ]
        }
      ]
    },
    {
      "cell_type": "code",
      "source": [
        "batch_size = 32\n",
        "\n",
        "opt = keras.optimizers.RMSprop(lr=0.0005)\n",
        "\n",
        "\n",
        "supple_model.compile(loss='categorical_crossentropy',\n",
        "              optimizer=opt,\n",
        "              metrics=['accuracy'])\n",
        "\n",
        "supple_model.fit(x_train, y_train,\n",
        "              batch_size=batch_size,\n",
        "              epochs=5,\n",
        "              validation_data=(x_test, y_test))"
      ],
      "metadata": {
        "id": "7kndgZjYAy9R",
        "colab": {
          "base_uri": "https://localhost:8080/"
        },
        "outputId": "e6fe6fe5-ed98-40ce-f15a-64a32ea473df"
      },
      "id": "7kndgZjYAy9R",
      "execution_count": 17,
      "outputs": [
        {
          "output_type": "stream",
          "name": "stderr",
          "text": [
            "WARNING:absl:`lr` is deprecated in Keras optimizer, please use `learning_rate` or use the legacy optimizer, e.g.,tf.keras.optimizers.legacy.RMSprop.\n"
          ]
        },
        {
          "output_type": "stream",
          "name": "stdout",
          "text": [
            "Epoch 1/5\n",
            "1563/1563 [==============================] - 486s 310ms/step - loss: 1.6374 - accuracy: 0.4056 - val_loss: 1.2331 - val_accuracy: 0.5586\n",
            "Epoch 2/5\n",
            "1563/1563 [==============================] - 460s 294ms/step - loss: 1.2238 - accuracy: 0.5703 - val_loss: 1.5916 - val_accuracy: 0.4825\n",
            "Epoch 3/5\n",
            "1563/1563 [==============================] - 457s 293ms/step - loss: 1.0949 - accuracy: 0.6211 - val_loss: 1.0473 - val_accuracy: 0.6358\n",
            "Epoch 4/5\n",
            "1563/1563 [==============================] - 476s 305ms/step - loss: 1.0363 - accuracy: 0.6426 - val_loss: 1.2658 - val_accuracy: 0.5744\n",
            "Epoch 5/5\n",
            "1563/1563 [==============================] - 476s 304ms/step - loss: 1.0197 - accuracy: 0.6532 - val_loss: 1.2151 - val_accuracy: 0.6226\n"
          ]
        },
        {
          "output_type": "execute_result",
          "data": {
            "text/plain": [
              "<keras.src.callbacks.History at 0x7c36c98389a0>"
            ]
          },
          "metadata": {},
          "execution_count": 17
        }
      ]
    },
    {
      "cell_type": "code",
      "source": [
        "supple_model_2 = Sequential()\n",
        "\n",
        "## 5x5 convolution with 1x1 stride and 32 filters\n",
        "supple_model_2.add(Conv2D(64, (4, 4), strides=(1, 1), padding='same', input_shape=x_train.shape[1:]))\n",
        "supple_model_2.add(Activation('relu'))\n",
        "\n",
        "## 1x1 max pooling reduces to 3 x 3 x 32\n",
        "supple_model_2.add(MaxPooling2D(pool_size=(2, 2)))\n",
        "supple_model_2.add(Dropout(0.25))\n",
        "\n",
        "## Another 5x5 convolution with 1x1 stride and 32 filters\n",
        "supple_model_2.add(Conv2D(32, (4, 4), strides=(1, 1), padding='same'))\n",
        "supple_model_2.add(Activation('relu'))\n",
        "\n",
        "## Another 5x5 convolution with 1x1 stride and 64 filters\n",
        "supple_model_2.add(Conv2D(64, (4, 4), strides=(1, 1), padding='same'))\n",
        "supple_model_2.add(Activation('relu'))\n",
        "\n",
        "## 1x1 max pooling reduces to 3 x 3 x 32\n",
        "supple_model_2.add(MaxPooling2D(pool_size=(2, 2)))\n",
        "supple_model_2.add(Dropout(0.25))\n",
        "\n",
        "## Flatten turns 3x3x32 into 288x1\n",
        "supple_model_2.add(Flatten())\n",
        "supple_model_2.add(Dense(512))\n",
        "supple_model_2.add(Activation('relu'))\n",
        "supple_model_2.add(Dropout(0.5))\n",
        "supple_model_2.add(Dense(num_classes))\n",
        "supple_model_2.add(Activation('softmax'))\n",
        "\n",
        "supple_model_2.summary()"
      ],
      "metadata": {
        "id": "52MjfYlLAy6v",
        "colab": {
          "base_uri": "https://localhost:8080/"
        },
        "outputId": "b3d25b6b-7ca9-4e1d-e488-bcc85d09e14c"
      },
      "id": "52MjfYlLAy6v",
      "execution_count": 24,
      "outputs": [
        {
          "output_type": "stream",
          "name": "stdout",
          "text": [
            "Model: \"sequential_26\"\n",
            "_________________________________________________________________\n",
            " Layer (type)                Output Shape              Param #   \n",
            "=================================================================\n",
            " conv2d_72 (Conv2D)          (None, 32, 32, 64)        3136      \n",
            "                                                                 \n",
            " activation_28 (Activation)  (None, 32, 32, 64)        0         \n",
            "                                                                 \n",
            " max_pooling2d_45 (MaxPooli  (None, 16, 16, 64)        0         \n",
            " ng2D)                                                           \n",
            "                                                                 \n",
            " dropout_28 (Dropout)        (None, 16, 16, 64)        0         \n",
            "                                                                 \n",
            " conv2d_73 (Conv2D)          (None, 16, 16, 32)        32800     \n",
            "                                                                 \n",
            " activation_29 (Activation)  (None, 16, 16, 32)        0         \n",
            "                                                                 \n",
            " conv2d_74 (Conv2D)          (None, 16, 16, 64)        32832     \n",
            "                                                                 \n",
            " activation_30 (Activation)  (None, 16, 16, 64)        0         \n",
            "                                                                 \n",
            " max_pooling2d_46 (MaxPooli  (None, 8, 8, 64)          0         \n",
            " ng2D)                                                           \n",
            "                                                                 \n",
            " dropout_29 (Dropout)        (None, 8, 8, 64)          0         \n",
            "                                                                 \n",
            " flatten_20 (Flatten)        (None, 4096)              0         \n",
            "                                                                 \n",
            " dense_40 (Dense)            (None, 512)               2097664   \n",
            "                                                                 \n",
            " activation_31 (Activation)  (None, 512)               0         \n",
            "                                                                 \n",
            " dropout_30 (Dropout)        (None, 512)               0         \n",
            "                                                                 \n",
            " dense_41 (Dense)            (None, 10)                5130      \n",
            "                                                                 \n",
            " activation_32 (Activation)  (None, 10)                0         \n",
            "                                                                 \n",
            "=================================================================\n",
            "Total params: 2171562 (8.28 MB)\n",
            "Trainable params: 2171562 (8.28 MB)\n",
            "Non-trainable params: 0 (0.00 Byte)\n",
            "_________________________________________________________________\n"
          ]
        }
      ]
    },
    {
      "cell_type": "code",
      "source": [
        "batch_size = 64\n",
        "\n",
        "opt = keras.optimizers.RMSprop(lr=0.0005)\n",
        "\n",
        "\n",
        "supple_model_2.compile(loss='categorical_crossentropy',\n",
        "              optimizer=opt,\n",
        "              metrics=['accuracy'])\n",
        "\n",
        "supple_model_2.fit(x_train, y_train,\n",
        "              batch_size=batch_size,\n",
        "              epochs=5,\n",
        "              validation_data=(x_test, y_test))"
      ],
      "metadata": {
        "colab": {
          "base_uri": "https://localhost:8080/"
        },
        "id": "fFn83pQXL9LZ",
        "outputId": "a1df91de-55c1-4ec0-c5dc-1f1c7dfd2424"
      },
      "id": "fFn83pQXL9LZ",
      "execution_count": 27,
      "outputs": [
        {
          "output_type": "stream",
          "name": "stderr",
          "text": [
            "WARNING:absl:`lr` is deprecated in Keras optimizer, please use `learning_rate` or use the legacy optimizer, e.g.,tf.keras.optimizers.legacy.RMSprop.\n"
          ]
        },
        {
          "output_type": "stream",
          "name": "stdout",
          "text": [
            "Epoch 1/5\n",
            "782/782 [==============================] - 288s 367ms/step - loss: 1.6576 - accuracy: 0.4002 - val_loss: 1.3675 - val_accuracy: 0.5135\n",
            "Epoch 2/5\n",
            "782/782 [==============================] - 290s 371ms/step - loss: 1.2490 - accuracy: 0.5592 - val_loss: 1.1834 - val_accuracy: 0.5824\n",
            "Epoch 3/5\n",
            "782/782 [==============================] - 291s 372ms/step - loss: 1.0769 - accuracy: 0.6221 - val_loss: 1.2516 - val_accuracy: 0.5713\n",
            "Epoch 4/5\n",
            "782/782 [==============================] - 276s 353ms/step - loss: 0.9714 - accuracy: 0.6635 - val_loss: 1.0203 - val_accuracy: 0.6504\n",
            "Epoch 5/5\n",
            "782/782 [==============================] - 277s 355ms/step - loss: 0.9099 - accuracy: 0.6858 - val_loss: 1.0631 - val_accuracy: 0.6315\n"
          ]
        },
        {
          "output_type": "execute_result",
          "data": {
            "text/plain": [
              "<keras.src.callbacks.History at 0x7c36954ab8b0>"
            ]
          },
          "metadata": {},
          "execution_count": 27
        }
      ]
    },
    {
      "cell_type": "markdown",
      "id": "compact-still",
      "metadata": {
        "id": "compact-still"
      },
      "source": [
        "#### Conclusion\n"
      ]
    },
    {
      "cell_type": "markdown",
      "id": "desirable-jackson",
      "metadata": {
        "id": "desirable-jackson"
      },
      "source": [
        "This activity helped me comprehend a deeper understanding about convolutional neural networks (CNNs), I have learned the concept and techniques to apply it in this activity to help me finish the given tasks. I realized that the regularization techniques, optimization, and the architecture of the models can impact the performance of the model."
      ]
    },
    {
      "cell_type": "markdown",
      "source": [
        "Colab Link: https://colab.research.google.com/drive/1w_jHAtLp86oPp-cMvEGF3Tt7q0y6RI9k?usp=sharing"
      ],
      "metadata": {
        "id": "_IUUUCx9W050"
      },
      "id": "_IUUUCx9W050"
    }
  ],
  "metadata": {
    "kernelspec": {
      "display_name": "Python 3",
      "language": "python",
      "name": "python3"
    },
    "language_info": {
      "codemirror_mode": {
        "name": "ipython",
        "version": 3
      },
      "file_extension": ".py",
      "mimetype": "text/x-python",
      "name": "python",
      "nbconvert_exporter": "python",
      "pygments_lexer": "ipython3",
      "version": "3.7.10"
    },
    "colab": {
      "provenance": []
    }
  },
  "nbformat": 4,
  "nbformat_minor": 5
}