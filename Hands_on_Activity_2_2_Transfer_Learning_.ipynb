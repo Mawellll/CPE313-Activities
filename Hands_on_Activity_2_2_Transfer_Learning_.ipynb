{
  "cells": [
    {
      "cell_type": "markdown",
      "id": "annual-sandwich",
      "metadata": {
        "id": "annual-sandwich"
      },
      "source": [
        "# Activity 2.2 - Transfer Learning"
      ]
    },
    {
      "cell_type": "markdown",
      "source": [
        "**NAME:** Abo, Emmanuel Q.\n",
        "\n",
        "**Section:** CPE32S8"
      ],
      "metadata": {
        "id": "NJmRLh69TU7H"
      },
      "id": "NJmRLh69TU7H"
    },
    {
      "cell_type": "markdown",
      "id": "great-fireplace",
      "metadata": {
        "id": "great-fireplace"
      },
      "source": [
        "#### Objective(s):\n",
        "\n",
        "This activity aims to introduce how to apply transfer learning"
      ]
    },
    {
      "cell_type": "markdown",
      "id": "subjective-elimination",
      "metadata": {
        "id": "subjective-elimination"
      },
      "source": [
        "#### Intended Learning Outcomes (ILOs):\n",
        "* Demonstrate how to build and train neural network\n",
        "* Demonstrate how to apply transfer learning in neural network\n"
      ]
    },
    {
      "cell_type": "markdown",
      "id": "simplified-azerbaijan",
      "metadata": {
        "id": "simplified-azerbaijan"
      },
      "source": [
        "#### Resources:\n",
        "* Jupyter Notebook\n",
        "* CIFAR-10 dataset"
      ]
    },
    {
      "cell_type": "markdown",
      "id": "ordinary-crime",
      "metadata": {
        "id": "ordinary-crime"
      },
      "source": [
        "#### Procedures\n",
        "Load the necessary libraries"
      ]
    },
    {
      "cell_type": "code",
      "execution_count": 1,
      "id": "comic-joining",
      "metadata": {
        "id": "comic-joining"
      },
      "outputs": [],
      "source": [
        "from __future__ import print_function\n",
        "\n",
        "import datetime\n",
        "import keras\n",
        "from keras.datasets import mnist\n",
        "from keras.models import Sequential\n",
        "from keras.layers import Dense, Dropout, Activation, Flatten\n",
        "from keras.layers import Conv2D, MaxPooling2D\n",
        "from keras import backend as K"
      ]
    },
    {
      "cell_type": "markdown",
      "id": "moral-chair",
      "metadata": {
        "id": "moral-chair"
      },
      "source": [
        "Set the parameters"
      ]
    },
    {
      "cell_type": "code",
      "execution_count": 2,
      "id": "sticky-metallic",
      "metadata": {
        "id": "sticky-metallic"
      },
      "outputs": [],
      "source": [
        "now = datetime.datetime.now\n",
        "batch_size = 128\n",
        "num_classes = 5\n",
        "epochs = 15\n",
        "img_rows, img_cols = 28, 28\n",
        "filters = 32\n",
        "pool_size = 2\n",
        "kernel_size = 3"
      ]
    },
    {
      "cell_type": "markdown",
      "id": "resident-activity",
      "metadata": {
        "id": "resident-activity"
      },
      "source": [
        "Set how the input data is loaded"
      ]
    },
    {
      "cell_type": "code",
      "execution_count": 3,
      "id": "measured-queens",
      "metadata": {
        "id": "measured-queens"
      },
      "outputs": [],
      "source": [
        "\n",
        "if K.image_data_format() == 'channels_first':\n",
        "    input_shape = (1, img_rows, img_cols)\n",
        "else:\n",
        "    input_shape = (img_rows, img_cols, 1)"
      ]
    },
    {
      "cell_type": "markdown",
      "id": "jewish-russell",
      "metadata": {
        "id": "jewish-russell"
      },
      "source": [
        "* Write a function to include all the training steps.\n",
        "* Use the model, training set, test set and number of classes as function parameters\n"
      ]
    },
    {
      "cell_type": "code",
      "execution_count": 4,
      "id": "julian-batch",
      "metadata": {
        "id": "julian-batch"
      },
      "outputs": [],
      "source": [
        "def train_model(model, train, test, num_classes):\n",
        "    x_train = train[0].reshape((train[0].shape[0],) + input_shape)\n",
        "    x_test = test[0].reshape((test[0].shape[0],) + input_shape)\n",
        "    x_train = x_train.astype('float32')\n",
        "    x_test = x_test.astype('float32')\n",
        "    x_train /= 255\n",
        "    x_test /= 255\n",
        "    print('x_train shape:', x_train.shape)\n",
        "    print(x_train.shape[0], 'train samples')\n",
        "    print(x_test.shape[0], 'test samples')\n",
        "\n",
        "    # convert class vectors to binary class matrices\n",
        "    y_train = keras.utils.to_categorical(train[1], num_classes)\n",
        "    y_test = keras.utils.to_categorical(test[1], num_classes)\n",
        "\n",
        "    model.compile(loss='categorical_crossentropy',\n",
        "                  optimizer='adadelta',\n",
        "                  metrics=['accuracy'])\n",
        "\n",
        "    t = now()\n",
        "    model.fit(x_train, y_train,\n",
        "              batch_size=batch_size,\n",
        "              epochs=epochs,\n",
        "              verbose=1,\n",
        "              validation_data=(x_test, y_test))\n",
        "    print('Training time: %s' % (now() - t))\n",
        "\n",
        "    score = model.evaluate(x_test, y_test, verbose=0)\n",
        "    print('Test score:', score[0])\n",
        "    print('Test accuracy:', score[1])"
      ]
    },
    {
      "cell_type": "markdown",
      "id": "monetary-final",
      "metadata": {
        "id": "monetary-final"
      },
      "source": [
        "Shuffle and split the data between train and test sets"
      ]
    },
    {
      "cell_type": "code",
      "execution_count": 5,
      "id": "hollywood-amendment",
      "metadata": {
        "id": "hollywood-amendment"
      },
      "outputs": [],
      "source": [
        "(x_train, y_train), (x_test, y_test) = mnist.load_data()"
      ]
    },
    {
      "cell_type": "markdown",
      "id": "committed-bench",
      "metadata": {
        "id": "committed-bench"
      },
      "source": [
        "Create two datasets\n",
        "* one with digits below 5\n",
        "* one with 5 and above"
      ]
    },
    {
      "cell_type": "code",
      "execution_count": 6,
      "id": "lesser-bradley",
      "metadata": {
        "id": "lesser-bradley"
      },
      "outputs": [],
      "source": [
        "x_train_lt5 = x_train[y_train < 5]\n",
        "y_train_lt5 = y_train[y_train < 5]\n",
        "x_test_lt5 = x_test[y_test < 5]\n",
        "y_test_lt5 = y_test[y_test < 5]\n",
        "\n",
        "x_train_gte5 = x_train[y_train >= 5]\n",
        "y_train_gte5 = y_train[y_train >= 5] - 5\n",
        "x_test_gte5 = x_test[y_test >= 5]\n",
        "y_test_gte5 = y_test[y_test >= 5] - 5"
      ]
    },
    {
      "cell_type": "markdown",
      "id": "talented-scheme",
      "metadata": {
        "id": "talented-scheme"
      },
      "source": [
        "* Define the feature layers that will used for transfer learning\n",
        "* Freeze these layers during fine-tuning process"
      ]
    },
    {
      "cell_type": "code",
      "execution_count": 7,
      "id": "ranging-neutral",
      "metadata": {
        "id": "ranging-neutral"
      },
      "outputs": [],
      "source": [
        "\n",
        "\n",
        "feature_layers = [\n",
        "    Conv2D(filters, kernel_size,\n",
        "           padding='valid',\n",
        "           input_shape=input_shape),\n",
        "    Activation('relu'),\n",
        "    Conv2D(filters, kernel_size),\n",
        "    Activation('relu'),\n",
        "    MaxPooling2D(pool_size=pool_size),\n",
        "    Dropout(0.25),\n",
        "    Flatten(),\n",
        "]"
      ]
    },
    {
      "cell_type": "markdown",
      "id": "bulgarian-accuracy",
      "metadata": {
        "id": "bulgarian-accuracy"
      },
      "source": [
        "Define the classification layers"
      ]
    },
    {
      "cell_type": "code",
      "execution_count": 8,
      "id": "religious-timer",
      "metadata": {
        "id": "religious-timer"
      },
      "outputs": [],
      "source": [
        "\n",
        "\n",
        "classification_layers = [\n",
        "    Dense(128),\n",
        "    Activation('relu'),\n",
        "    Dropout(0.5),\n",
        "    Dense(num_classes),\n",
        "    Activation('softmax')\n",
        "]"
      ]
    },
    {
      "cell_type": "markdown",
      "id": "yellow-puzzle",
      "metadata": {
        "id": "yellow-puzzle"
      },
      "source": [
        "Create a model by combining the feature layers and classification layers"
      ]
    },
    {
      "cell_type": "code",
      "execution_count": 9,
      "id": "governmental-portable",
      "metadata": {
        "id": "governmental-portable"
      },
      "outputs": [],
      "source": [
        "\n",
        "model = Sequential(feature_layers + classification_layers)"
      ]
    },
    {
      "cell_type": "markdown",
      "id": "noticed-dairy",
      "metadata": {
        "id": "noticed-dairy"
      },
      "source": [
        "Check the model summary"
      ]
    },
    {
      "cell_type": "code",
      "execution_count": 10,
      "id": "correct-syria",
      "metadata": {
        "colab": {
          "base_uri": "https://localhost:8080/"
        },
        "id": "correct-syria",
        "outputId": "e88e521c-ce0f-40ed-9d77-793433437a20"
      },
      "outputs": [
        {
          "output_type": "stream",
          "name": "stdout",
          "text": [
            "Model: \"sequential\"\n",
            "_________________________________________________________________\n",
            " Layer (type)                Output Shape              Param #   \n",
            "=================================================================\n",
            " conv2d (Conv2D)             (None, 26, 26, 32)        320       \n",
            "                                                                 \n",
            " activation (Activation)     (None, 26, 26, 32)        0         \n",
            "                                                                 \n",
            " conv2d_1 (Conv2D)           (None, 24, 24, 32)        9248      \n",
            "                                                                 \n",
            " activation_1 (Activation)   (None, 24, 24, 32)        0         \n",
            "                                                                 \n",
            " max_pooling2d (MaxPooling2  (None, 12, 12, 32)        0         \n",
            " D)                                                              \n",
            "                                                                 \n",
            " dropout (Dropout)           (None, 12, 12, 32)        0         \n",
            "                                                                 \n",
            " flatten (Flatten)           (None, 4608)              0         \n",
            "                                                                 \n",
            " dense (Dense)               (None, 128)               589952    \n",
            "                                                                 \n",
            " activation_2 (Activation)   (None, 128)               0         \n",
            "                                                                 \n",
            " dropout_1 (Dropout)         (None, 128)               0         \n",
            "                                                                 \n",
            " dense_1 (Dense)             (None, 5)                 645       \n",
            "                                                                 \n",
            " activation_3 (Activation)   (None, 5)                 0         \n",
            "                                                                 \n",
            "=================================================================\n",
            "Total params: 600165 (2.29 MB)\n",
            "Trainable params: 600165 (2.29 MB)\n",
            "Non-trainable params: 0 (0.00 Byte)\n",
            "_________________________________________________________________\n"
          ]
        }
      ],
      "source": [
        "\n",
        "model.summary()"
      ]
    },
    {
      "cell_type": "markdown",
      "id": "productive-regular",
      "metadata": {
        "id": "productive-regular"
      },
      "source": [
        " Train the  model on the digits 5,6,7,8,9"
      ]
    },
    {
      "cell_type": "code",
      "execution_count": 11,
      "id": "distinct-ticket",
      "metadata": {
        "colab": {
          "base_uri": "https://localhost:8080/"
        },
        "id": "distinct-ticket",
        "outputId": "0569f8ee-d783-414a-8a37-ef84f6f76295"
      },
      "outputs": [
        {
          "output_type": "stream",
          "name": "stdout",
          "text": [
            "x_train shape: (29404, 28, 28, 1)\n",
            "29404 train samples\n",
            "4861 test samples\n",
            "Epoch 1/15\n",
            "230/230 [==============================] - 47s 195ms/step - loss: 1.6083 - accuracy: 0.2220 - val_loss: 1.5793 - val_accuracy: 0.3069\n",
            "Epoch 2/15\n",
            "230/230 [==============================] - 42s 183ms/step - loss: 1.5760 - accuracy: 0.2816 - val_loss: 1.5415 - val_accuracy: 0.4102\n",
            "Epoch 3/15\n",
            "230/230 [==============================] - 43s 187ms/step - loss: 1.5421 - accuracy: 0.3529 - val_loss: 1.5002 - val_accuracy: 0.4960\n",
            "Epoch 4/15\n",
            "230/230 [==============================] - 44s 192ms/step - loss: 1.5022 - accuracy: 0.4278 - val_loss: 1.4535 - val_accuracy: 0.6106\n",
            "Epoch 5/15\n",
            "230/230 [==============================] - 42s 182ms/step - loss: 1.4596 - accuracy: 0.4937 - val_loss: 1.4015 - val_accuracy: 0.6881\n",
            "Epoch 6/15\n",
            "230/230 [==============================] - 41s 180ms/step - loss: 1.4126 - accuracy: 0.5487 - val_loss: 1.3434 - val_accuracy: 0.7367\n",
            "Epoch 7/15\n",
            "230/230 [==============================] - 41s 178ms/step - loss: 1.3550 - accuracy: 0.5997 - val_loss: 1.2782 - val_accuracy: 0.7725\n",
            "Epoch 8/15\n",
            "230/230 [==============================] - 42s 182ms/step - loss: 1.2944 - accuracy: 0.6361 - val_loss: 1.2064 - val_accuracy: 0.7935\n",
            "Epoch 9/15\n",
            "230/230 [==============================] - 43s 187ms/step - loss: 1.2260 - accuracy: 0.6657 - val_loss: 1.1293 - val_accuracy: 0.8128\n",
            "Epoch 10/15\n",
            "230/230 [==============================] - 42s 182ms/step - loss: 1.1595 - accuracy: 0.6905 - val_loss: 1.0497 - val_accuracy: 0.8288\n",
            "Epoch 11/15\n",
            "230/230 [==============================] - 42s 181ms/step - loss: 1.0894 - accuracy: 0.7083 - val_loss: 0.9702 - val_accuracy: 0.8408\n",
            "Epoch 12/15\n",
            "230/230 [==============================] - 43s 187ms/step - loss: 1.0248 - accuracy: 0.7222 - val_loss: 0.8943 - val_accuracy: 0.8519\n",
            "Epoch 13/15\n",
            "230/230 [==============================] - 41s 179ms/step - loss: 0.9528 - accuracy: 0.7414 - val_loss: 0.8225 - val_accuracy: 0.8593\n",
            "Epoch 14/15\n",
            "230/230 [==============================] - 42s 184ms/step - loss: 0.8965 - accuracy: 0.7510 - val_loss: 0.7576 - val_accuracy: 0.8655\n",
            "Epoch 15/15\n",
            "230/230 [==============================] - 41s 179ms/step - loss: 0.8416 - accuracy: 0.7633 - val_loss: 0.6997 - val_accuracy: 0.8690\n",
            "Training time: 0:11:24.324393\n",
            "Test score: 0.6996570229530334\n",
            "Test accuracy: 0.868956983089447\n"
          ]
        }
      ],
      "source": [
        "train_model(model,\n",
        "            (x_train_gte5, y_train_gte5),\n",
        "            (x_test_gte5, y_test_gte5), num_classes)"
      ]
    },
    {
      "cell_type": "markdown",
      "id": "racial-emission",
      "metadata": {
        "id": "racial-emission"
      },
      "source": [
        "Freeze only the feature layers"
      ]
    },
    {
      "cell_type": "code",
      "execution_count": 12,
      "id": "violent-territory",
      "metadata": {
        "id": "violent-territory"
      },
      "outputs": [],
      "source": [
        "for l in feature_layers:\n",
        "    l.trainable = False"
      ]
    },
    {
      "cell_type": "markdown",
      "id": "continuous-injection",
      "metadata": {
        "id": "continuous-injection"
      },
      "source": [
        "Check again the summary and observe the parameters from the previous model"
      ]
    },
    {
      "cell_type": "code",
      "execution_count": 13,
      "id": "sunset-manhattan",
      "metadata": {
        "colab": {
          "base_uri": "https://localhost:8080/"
        },
        "id": "sunset-manhattan",
        "outputId": "e70bb4d1-b836-464c-9e9b-249cec45ba2a"
      },
      "outputs": [
        {
          "output_type": "stream",
          "name": "stdout",
          "text": [
            "Model: \"sequential\"\n",
            "_________________________________________________________________\n",
            " Layer (type)                Output Shape              Param #   \n",
            "=================================================================\n",
            " conv2d (Conv2D)             (None, 26, 26, 32)        320       \n",
            "                                                                 \n",
            " activation (Activation)     (None, 26, 26, 32)        0         \n",
            "                                                                 \n",
            " conv2d_1 (Conv2D)           (None, 24, 24, 32)        9248      \n",
            "                                                                 \n",
            " activation_1 (Activation)   (None, 24, 24, 32)        0         \n",
            "                                                                 \n",
            " max_pooling2d (MaxPooling2  (None, 12, 12, 32)        0         \n",
            " D)                                                              \n",
            "                                                                 \n",
            " dropout (Dropout)           (None, 12, 12, 32)        0         \n",
            "                                                                 \n",
            " flatten (Flatten)           (None, 4608)              0         \n",
            "                                                                 \n",
            " dense (Dense)               (None, 128)               589952    \n",
            "                                                                 \n",
            " activation_2 (Activation)   (None, 128)               0         \n",
            "                                                                 \n",
            " dropout_1 (Dropout)         (None, 128)               0         \n",
            "                                                                 \n",
            " dense_1 (Dense)             (None, 5)                 645       \n",
            "                                                                 \n",
            " activation_3 (Activation)   (None, 5)                 0         \n",
            "                                                                 \n",
            "=================================================================\n",
            "Total params: 600165 (2.29 MB)\n",
            "Trainable params: 590597 (2.25 MB)\n",
            "Non-trainable params: 9568 (37.38 KB)\n",
            "_________________________________________________________________\n"
          ]
        }
      ],
      "source": [
        "model.summary()"
      ]
    },
    {
      "cell_type": "markdown",
      "id": "modern-carnival",
      "metadata": {
        "id": "modern-carnival"
      },
      "source": [
        "Train again the model using the 0 to 4 digits"
      ]
    },
    {
      "cell_type": "code",
      "execution_count": 14,
      "id": "comprehensive-nurse",
      "metadata": {
        "colab": {
          "base_uri": "https://localhost:8080/"
        },
        "id": "comprehensive-nurse",
        "outputId": "43d29baf-6fa8-4f05-8502-076362a05331"
      },
      "outputs": [
        {
          "output_type": "stream",
          "name": "stdout",
          "text": [
            "x_train shape: (30596, 28, 28, 1)\n",
            "30596 train samples\n",
            "5139 test samples\n",
            "Epoch 1/15\n",
            "240/240 [==============================] - 17s 70ms/step - loss: 1.5853 - accuracy: 0.3664 - val_loss: 1.4251 - val_accuracy: 0.4197\n",
            "Epoch 2/15\n",
            "240/240 [==============================] - 16s 69ms/step - loss: 1.4239 - accuracy: 0.4189 - val_loss: 1.2813 - val_accuracy: 0.4635\n",
            "Epoch 3/15\n",
            "240/240 [==============================] - 17s 70ms/step - loss: 1.2951 - accuracy: 0.4758 - val_loss: 1.1564 - val_accuracy: 0.5410\n",
            "Epoch 4/15\n",
            "240/240 [==============================] - 17s 69ms/step - loss: 1.1870 - accuracy: 0.5333 - val_loss: 1.0452 - val_accuracy: 0.6379\n",
            "Epoch 5/15\n",
            "240/240 [==============================] - 16s 65ms/step - loss: 1.0916 - accuracy: 0.5993 - val_loss: 0.9496 - val_accuracy: 0.7219\n",
            "Epoch 6/15\n",
            "240/240 [==============================] - 16s 67ms/step - loss: 1.0049 - accuracy: 0.6602 - val_loss: 0.8647 - val_accuracy: 0.7799\n",
            "Epoch 7/15\n",
            "240/240 [==============================] - 15s 64ms/step - loss: 0.9269 - accuracy: 0.7067 - val_loss: 0.7911 - val_accuracy: 0.8134\n",
            "Epoch 8/15\n",
            "240/240 [==============================] - 17s 73ms/step - loss: 0.8584 - accuracy: 0.7475 - val_loss: 0.7277 - val_accuracy: 0.8432\n",
            "Epoch 9/15\n",
            "240/240 [==============================] - 19s 79ms/step - loss: 0.8048 - accuracy: 0.7747 - val_loss: 0.6737 - val_accuracy: 0.8605\n",
            "Epoch 10/15\n",
            "240/240 [==============================] - 16s 65ms/step - loss: 0.7548 - accuracy: 0.7996 - val_loss: 0.6253 - val_accuracy: 0.8749\n",
            "Epoch 11/15\n",
            "240/240 [==============================] - 16s 69ms/step - loss: 0.7105 - accuracy: 0.8135 - val_loss: 0.5827 - val_accuracy: 0.8856\n",
            "Epoch 12/15\n",
            "240/240 [==============================] - 17s 71ms/step - loss: 0.6724 - accuracy: 0.8285 - val_loss: 0.5453 - val_accuracy: 0.8920\n",
            "Epoch 13/15\n",
            "240/240 [==============================] - 16s 66ms/step - loss: 0.6344 - accuracy: 0.8432 - val_loss: 0.5124 - val_accuracy: 0.8976\n",
            "Epoch 14/15\n",
            "240/240 [==============================] - 17s 69ms/step - loss: 0.6016 - accuracy: 0.8518 - val_loss: 0.4818 - val_accuracy: 0.9066\n",
            "Epoch 15/15\n",
            "240/240 [==============================] - 17s 69ms/step - loss: 0.5763 - accuracy: 0.8581 - val_loss: 0.4547 - val_accuracy: 0.9105\n",
            "Training time: 0:04:22.701775\n",
            "Test score: 0.4547477066516876\n",
            "Test accuracy: 0.9104884266853333\n"
          ]
        }
      ],
      "source": [
        "train_model(model,\n",
        "            (x_train_lt5, y_train_lt5),\n",
        "            (x_test_lt5, y_test_lt5), num_classes)"
      ]
    },
    {
      "cell_type": "markdown",
      "id": "numerical-integer",
      "metadata": {
        "id": "numerical-integer"
      },
      "source": [
        "#### Supplementary Activity\n",
        "Now write code to reverse this training process. That is, you will train on the digits 0-4, and then finetune only the last layers on the digits 5-9."
      ]
    },
    {
      "cell_type": "code",
      "execution_count": 15,
      "id": "registered-venice",
      "metadata": {
        "id": "registered-venice",
        "colab": {
          "base_uri": "https://localhost:8080/"
        },
        "outputId": "97bf1b17-3b27-4bf9-9633-af44b6702453"
      },
      "outputs": [
        {
          "output_type": "stream",
          "name": "stdout",
          "text": [
            "x_train shape: (30596, 28, 28, 1)\n",
            "30596 train samples\n",
            "5139 test samples\n",
            "Epoch 1/15\n",
            "240/240 [==============================] - 17s 70ms/step - loss: 0.5493 - accuracy: 0.8633 - val_loss: 0.4290 - val_accuracy: 0.9148\n",
            "Epoch 2/15\n",
            "240/240 [==============================] - 17s 71ms/step - loss: 0.5244 - accuracy: 0.8710 - val_loss: 0.4075 - val_accuracy: 0.9181\n",
            "Epoch 3/15\n",
            "240/240 [==============================] - 17s 69ms/step - loss: 0.5027 - accuracy: 0.8761 - val_loss: 0.3882 - val_accuracy: 0.9222\n",
            "Epoch 4/15\n",
            "240/240 [==============================] - 17s 70ms/step - loss: 0.4823 - accuracy: 0.8825 - val_loss: 0.3716 - val_accuracy: 0.9264\n",
            "Epoch 5/15\n",
            "240/240 [==============================] - 19s 78ms/step - loss: 0.4651 - accuracy: 0.8848 - val_loss: 0.3561 - val_accuracy: 0.9301\n",
            "Epoch 6/15\n",
            "240/240 [==============================] - 15s 65ms/step - loss: 0.4502 - accuracy: 0.8905 - val_loss: 0.3422 - val_accuracy: 0.9313\n",
            "Epoch 7/15\n",
            "240/240 [==============================] - 16s 68ms/step - loss: 0.4356 - accuracy: 0.8918 - val_loss: 0.3294 - val_accuracy: 0.9329\n",
            "Epoch 8/15\n",
            "240/240 [==============================] - 17s 71ms/step - loss: 0.4233 - accuracy: 0.8948 - val_loss: 0.3185 - val_accuracy: 0.9356\n",
            "Epoch 9/15\n",
            "240/240 [==============================] - 15s 64ms/step - loss: 0.4138 - accuracy: 0.8971 - val_loss: 0.3082 - val_accuracy: 0.9360\n",
            "Epoch 10/15\n",
            "240/240 [==============================] - 15s 64ms/step - loss: 0.4014 - accuracy: 0.8986 - val_loss: 0.2984 - val_accuracy: 0.9370\n",
            "Epoch 11/15\n",
            "240/240 [==============================] - 17s 70ms/step - loss: 0.3911 - accuracy: 0.9035 - val_loss: 0.2891 - val_accuracy: 0.9379\n",
            "Epoch 12/15\n",
            "240/240 [==============================] - 17s 70ms/step - loss: 0.3840 - accuracy: 0.9016 - val_loss: 0.2805 - val_accuracy: 0.9397\n",
            "Epoch 13/15\n",
            "240/240 [==============================] - 16s 65ms/step - loss: 0.3733 - accuracy: 0.9058 - val_loss: 0.2727 - val_accuracy: 0.9412\n",
            "Epoch 14/15\n",
            "240/240 [==============================] - 15s 64ms/step - loss: 0.3618 - accuracy: 0.9094 - val_loss: 0.2654 - val_accuracy: 0.9428\n",
            "Epoch 15/15\n",
            "240/240 [==============================] - 17s 70ms/step - loss: 0.3550 - accuracy: 0.9102 - val_loss: 0.2588 - val_accuracy: 0.9436\n",
            "Training time: 0:04:08.001215\n",
            "Test score: 0.2587759494781494\n",
            "Test accuracy: 0.943568766117096\n"
          ]
        }
      ],
      "source": [
        "train_model(model,\n",
        "            (x_train_lt5, y_train_lt5),\n",
        "            (x_test_lt5, y_test_lt5), num_classes)"
      ]
    },
    {
      "cell_type": "code",
      "source": [
        "for l in feature_layers:\n",
        "    l.trainable = False"
      ],
      "metadata": {
        "id": "pfp5Fz6suykV"
      },
      "id": "pfp5Fz6suykV",
      "execution_count": 16,
      "outputs": []
    },
    {
      "cell_type": "code",
      "source": [
        "train_model(model,\n",
        "            (x_train_gte5, y_train_gte5),\n",
        "            (x_test_gte5, y_test_gte5), num_classes)"
      ],
      "metadata": {
        "colab": {
          "base_uri": "https://localhost:8080/"
        },
        "id": "n8Z6PWLtuyRw",
        "outputId": "598e9fa2-c8ea-469f-dcfe-c206992490a4"
      },
      "id": "n8Z6PWLtuyRw",
      "execution_count": 17,
      "outputs": [
        {
          "output_type": "stream",
          "name": "stdout",
          "text": [
            "x_train shape: (29404, 28, 28, 1)\n",
            "29404 train samples\n",
            "4861 test samples\n",
            "Epoch 1/15\n",
            "230/230 [==============================] - 16s 66ms/step - loss: 1.5062 - accuracy: 0.4542 - val_loss: 1.3194 - val_accuracy: 0.5159\n",
            "Epoch 2/15\n",
            "230/230 [==============================] - 16s 70ms/step - loss: 1.3462 - accuracy: 0.4925 - val_loss: 1.1767 - val_accuracy: 0.5591\n",
            "Epoch 3/15\n",
            "230/230 [==============================] - 18s 78ms/step - loss: 1.2281 - accuracy: 0.5332 - val_loss: 1.0618 - val_accuracy: 0.6015\n",
            "Epoch 4/15\n",
            "230/230 [==============================] - 15s 65ms/step - loss: 1.1272 - accuracy: 0.5735 - val_loss: 0.9678 - val_accuracy: 0.6425\n",
            "Epoch 5/15\n",
            "230/230 [==============================] - 16s 69ms/step - loss: 1.0536 - accuracy: 0.6055 - val_loss: 0.8893 - val_accuracy: 0.6783\n",
            "Epoch 6/15\n",
            "230/230 [==============================] - 15s 63ms/step - loss: 0.9773 - accuracy: 0.6398 - val_loss: 0.8239 - val_accuracy: 0.7132\n",
            "Epoch 7/15\n",
            "230/230 [==============================] - 16s 70ms/step - loss: 0.9149 - accuracy: 0.6648 - val_loss: 0.7692 - val_accuracy: 0.7394\n",
            "Epoch 8/15\n",
            "230/230 [==============================] - 15s 64ms/step - loss: 0.8689 - accuracy: 0.6875 - val_loss: 0.7234 - val_accuracy: 0.7595\n",
            "Epoch 9/15\n",
            "230/230 [==============================] - 15s 64ms/step - loss: 0.8220 - accuracy: 0.7118 - val_loss: 0.6846 - val_accuracy: 0.7811\n",
            "Epoch 10/15\n",
            "230/230 [==============================] - 15s 65ms/step - loss: 0.7856 - accuracy: 0.7270 - val_loss: 0.6514 - val_accuracy: 0.7961\n",
            "Epoch 11/15\n",
            "230/230 [==============================] - 16s 69ms/step - loss: 0.7532 - accuracy: 0.7475 - val_loss: 0.6227 - val_accuracy: 0.8116\n",
            "Epoch 12/15\n",
            "230/230 [==============================] - 16s 69ms/step - loss: 0.7243 - accuracy: 0.7565 - val_loss: 0.5977 - val_accuracy: 0.8229\n",
            "Epoch 13/15\n",
            "230/230 [==============================] - 16s 70ms/step - loss: 0.6973 - accuracy: 0.7712 - val_loss: 0.5759 - val_accuracy: 0.8323\n",
            "Epoch 14/15\n",
            "230/230 [==============================] - 15s 65ms/step - loss: 0.6793 - accuracy: 0.7786 - val_loss: 0.5564 - val_accuracy: 0.8389\n",
            "Epoch 15/15\n",
            "230/230 [==============================] - 15s 66ms/step - loss: 0.6554 - accuracy: 0.7902 - val_loss: 0.5388 - val_accuracy: 0.8457\n",
            "Training time: 0:04:22.648125\n",
            "Test score: 0.5387917160987854\n",
            "Test accuracy: 0.8457107543945312\n"
          ]
        }
      ]
    },
    {
      "cell_type": "markdown",
      "id": "cardiovascular-sapphire",
      "metadata": {
        "id": "cardiovascular-sapphire"
      },
      "source": [
        "#### Conclusion"
      ]
    },
    {
      "cell_type": "markdown",
      "id": "conditional-prerequisite",
      "metadata": {
        "id": "conditional-prerequisite"
      },
      "source": [
        "#This activity has helped me understand how to apply transfer learning along with its benefits. It can be used to enhance the performance of the model by leveraging the knowledge gained from the pre-trained model. The process of applying transfer learning to build and train a neural network involves selecting a pre-trained model and freezing pre-trained layers to prevent their weights from being updated during training which can help prevent overfitting and reduce training time."
      ]
    },
    {
      "cell_type": "markdown",
      "source": [
        "Colab Link: https://colab.research.google.com/drive/17otveCdQvKC0Hn9HAROYPPFW3T-NiaRL?usp=sharing"
      ],
      "metadata": {
        "id": "9vNYt28KTQpM"
      },
      "id": "9vNYt28KTQpM"
    }
  ],
  "metadata": {
    "kernelspec": {
      "display_name": "Python 3",
      "language": "python",
      "name": "python3"
    },
    "language_info": {
      "codemirror_mode": {
        "name": "ipython",
        "version": 3
      },
      "file_extension": ".py",
      "mimetype": "text/x-python",
      "name": "python",
      "nbconvert_exporter": "python",
      "pygments_lexer": "ipython3",
      "version": "3.7.10"
    },
    "colab": {
      "provenance": []
    }
  },
  "nbformat": 4,
  "nbformat_minor": 5
}