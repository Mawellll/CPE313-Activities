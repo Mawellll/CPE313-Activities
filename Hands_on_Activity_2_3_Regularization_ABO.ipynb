{
  "cells": [
    {
      "cell_type": "markdown",
      "id": "frozen-passport",
      "metadata": {
        "id": "frozen-passport"
      },
      "source": [
        "# Activity 2.3 : Regularization\n",
        "\n",
        "\n",
        "---\n",
        "\n",
        "**Name:** Abo, Emmanuel Q.\n",
        "**Section:** CPE32S8"
      ]
    },
    {
      "cell_type": "markdown",
      "id": "downtown-relay",
      "metadata": {
        "id": "downtown-relay"
      },
      "source": [
        "#### Objective(s):\n",
        "\n",
        "This activity aims to demonstrate how to apply  regularization in neural networks"
      ]
    },
    {
      "cell_type": "markdown",
      "id": "weird-journal",
      "metadata": {
        "id": "weird-journal"
      },
      "source": [
        "#### Intended Learning Outcomes (ILOs):\n",
        "* Demonstrate how to build and train neural networks with regularization\n",
        "* Demonstrate how to visualize the model with regularization\n",
        "* Evaluate the result of model with regularization\n"
      ]
    },
    {
      "cell_type": "markdown",
      "id": "returning-harvard",
      "metadata": {
        "id": "returning-harvard"
      },
      "source": [
        "#### Resources:\n",
        "* Jupyter Notebook\n",
        "* MNIST\n"
      ]
    },
    {
      "cell_type": "markdown",
      "id": "virgin-webcam",
      "metadata": {
        "id": "virgin-webcam"
      },
      "source": [
        "#### Procedures\n",
        "Load the necessary libraries"
      ]
    },
    {
      "cell_type": "code",
      "execution_count": null,
      "id": "changing-emergency",
      "metadata": {
        "id": "changing-emergency"
      },
      "outputs": [],
      "source": [
        "from __future__ import print_function\n",
        "\n",
        "import keras\n",
        "from keras.datasets import mnist\n",
        "from keras.models import Sequential\n",
        "from keras.layers import Dense, Dropout\n",
        "from keras.optimizers import RMSprop\n",
        "\n",
        "import numpy as np\n",
        "import matplotlib.pyplot as plt\n",
        "%matplotlib inline"
      ]
    },
    {
      "cell_type": "markdown",
      "id": "central-drama",
      "metadata": {
        "id": "central-drama"
      },
      "source": [
        "Load the data, shuffled and split between train and test sets"
      ]
    },
    {
      "cell_type": "code",
      "execution_count": null,
      "id": "egyptian-driving",
      "metadata": {
        "id": "egyptian-driving",
        "colab": {
          "base_uri": "https://localhost:8080/"
        },
        "outputId": "82e07fba-7895-4289-e56c-dd8048dd592b"
      },
      "outputs": [
        {
          "output_type": "stream",
          "name": "stdout",
          "text": [
            "Downloading data from https://storage.googleapis.com/tensorflow/tf-keras-datasets/mnist.npz\n",
            "11490434/11490434 [==============================] - 1s 0us/step\n"
          ]
        }
      ],
      "source": [
        "(x_train, y_train), (x_test, y_test) = mnist.load_data()"
      ]
    },
    {
      "cell_type": "markdown",
      "id": "creative-cricket",
      "metadata": {
        "id": "creative-cricket"
      },
      "source": [
        "Get the size of the sample train data"
      ]
    },
    {
      "cell_type": "code",
      "execution_count": null,
      "id": "instrumental-funds",
      "metadata": {
        "id": "instrumental-funds",
        "colab": {
          "base_uri": "https://localhost:8080/"
        },
        "outputId": "e9d7f7d7-31c2-48f6-d1b3-2e891cdd9c74"
      },
      "outputs": [
        {
          "output_type": "execute_result",
          "data": {
            "text/plain": [
              "(28, 28)"
            ]
          },
          "metadata": {},
          "execution_count": 3
        }
      ],
      "source": [
        "x_train[0].shape"
      ]
    },
    {
      "cell_type": "markdown",
      "id": "atmospheric-carol",
      "metadata": {
        "id": "atmospheric-carol"
      },
      "source": [
        "Check the sample train data"
      ]
    },
    {
      "cell_type": "code",
      "execution_count": null,
      "id": "mental-johnston",
      "metadata": {
        "id": "mental-johnston",
        "colab": {
          "base_uri": "https://localhost:8080/",
          "height": 68
        },
        "outputId": "a386a91c-97cf-4ec5-b67a-107c0aeb7f8a"
      },
      "outputs": [
        {
          "output_type": "execute_result",
          "data": {
            "text/plain": [
              "array([[  0,   0,   0,   0,   0,   0,   0,   0,   0,   0,   0,   0,   0,\n",
              "          0,   0,   0,   0,   0,   0,   0,   0,   0,   0,   0,   0,   0,\n",
              "          0,   0],\n",
              "       [  0,   0,   0,   0,   0,   0,   0,   0,   0,   0,   0,   0,   0,\n",
              "          0,   0,   0,   0,   0,   0,   0,   0,   0,   0,   0,   0,   0,\n",
              "          0,   0],\n",
              "       [  0,   0,   0,   0,   0,   0,   0,   0,   0,   0,   0,   0,   0,\n",
              "          0,   0,   0,   0,   0,   0,   0,   0,   0,   0,   0,   0,   0,\n",
              "          0,   0],\n",
              "       [  0,   0,   0,   0,   0,   0,   0,   0,   0,   0,   0,   0,   0,\n",
              "          0,   0,   0,   0,   0,   0,   0,   0,   0,   0,   0,   0,   0,\n",
              "          0,   0],\n",
              "       [  0,   0,   0,   0,   0,   0,   0,   0,   0,   0,   0,   0,   0,\n",
              "          0,   0,   0,   0,   0,   0,   0,   0,   0,   0,   0,   0,   0,\n",
              "          0,   0],\n",
              "       [  0,   0,   0,   0,   0,   0,   0,   0,   0,   0,   0,  87, 138,\n",
              "        170, 253, 201, 244, 212, 222, 138,  86,  22,   0,   0,   0,   0,\n",
              "          0,   0],\n",
              "       [  0,   0,   0,   0,   0,   0,   0,   0,   0,   0,  95, 253, 252,\n",
              "        252, 252, 252, 253, 252, 252, 252, 252, 245,  80,   0,   0,   0,\n",
              "          0,   0],\n",
              "       [  0,   0,   0,   0,   0,   0,   0,   0,   0,  68, 246, 205,  69,\n",
              "         69,  69,  69,  69,  69,  69,  69, 205, 253, 240,  50,   0,   0,\n",
              "          0,   0],\n",
              "       [  0,   0,   0,   0,   0,   0,   0,   0,   0, 187, 252, 218,  34,\n",
              "          0,   0,   0,   0,   0,   0,   0, 116, 253, 252,  69,   0,   0,\n",
              "          0,   0],\n",
              "       [  0,   0,   0,   0,   0,   0,   0,   0, 116, 248, 252, 253,  92,\n",
              "          0,   0,   0,   0,   0,   0,  95, 230, 253, 157,   6,   0,   0,\n",
              "          0,   0],\n",
              "       [  0,   0,   0,   0,   0,   0,   0,   0, 116, 249, 253, 189,  42,\n",
              "          0,   0,   0,   0,  36, 170, 253, 243, 158,   0,   0,   0,   0,\n",
              "          0,   0],\n",
              "       [  0,   0,   0,   0,   0,   0,   0,   0,   0, 133, 252, 245, 140,\n",
              "         34,   0,   0,  57, 219, 252, 235,  60,   0,   0,   0,   0,   0,\n",
              "          0,   0],\n",
              "       [  0,   0,   0,   0,   0,   0,   0,   0,   0,  25, 205, 253, 252,\n",
              "        234, 184, 184, 253, 240, 100,  44,   0,   0,   0,   0,   0,   0,\n",
              "          0,   0],\n",
              "       [  0,   0,   0,   0,   0,   0,   0,   0,   0,   0,  21, 161, 219,\n",
              "        252, 252, 252, 234,  37,   0,   0,   0,   0,   0,   0,   0,   0,\n",
              "          0,   0],\n",
              "       [  0,   0,   0,   0,   0,   0,   0,   0,   0,   0,   0,  11, 203,\n",
              "        252, 252, 252, 251, 135,   0,   0,   0,   0,   0,   0,   0,   0,\n",
              "          0,   0],\n",
              "       [  0,   0,   0,   0,   0,   0,   0,   0,   0,   9,  76, 255, 253,\n",
              "        205, 168, 220, 255, 253, 137,   5,   0,   0,   0,   0,   0,   0,\n",
              "          0,   0],\n",
              "       [  0,   0,   0,   0,   0,   0,   0,   0,   0, 114, 252, 249, 132,\n",
              "         25,   0,   0, 180, 252, 252,  45,   0,   0,   0,   0,   0,   0,\n",
              "          0,   0],\n",
              "       [  0,   0,   0,   0,   0,   0,   0,   0,  51, 220, 252, 199,   0,\n",
              "          0,   0,   0,  38, 186, 252, 154,   7,   0,   0,   0,   0,   0,\n",
              "          0,   0],\n",
              "       [  0,   0,   0,   0,   0,   0,   0,   0, 184, 252, 252,  21,   0,\n",
              "          0,   0,   0,   0,  67, 252, 252,  22,   0,   0,   0,   0,   0,\n",
              "          0,   0],\n",
              "       [  0,   0,   0,   0,   0,   0,   0,   0, 184, 252, 200,   0,   0,\n",
              "          0,   0,   0,   0,  47, 252, 252,  22,   0,   0,   0,   0,   0,\n",
              "          0,   0],\n",
              "       [  0,   0,   0,   0,   0,   0,   0,   0, 185, 253, 201,   0,   0,\n",
              "          0,   0,   0,   3, 118, 253, 245,  21,   0,   0,   0,   0,   0,\n",
              "          0,   0],\n",
              "       [  0,   0,   0,   0,   0,   0,   0,   0, 163, 252, 252,   0,   0,\n",
              "          0,   0,   0,  97, 252, 252,  87,   0,   0,   0,   0,   0,   0,\n",
              "          0,   0],\n",
              "       [  0,   0,   0,   0,   0,   0,   0,   0,  51, 240, 252, 123,  70,\n",
              "         70, 112, 184, 222, 252, 170,  13,   0,   0,   0,   0,   0,   0,\n",
              "          0,   0],\n",
              "       [  0,   0,   0,   0,   0,   0,   0,   0,   0, 165, 252, 253, 252,\n",
              "        252, 252, 252, 245, 139,  13,   0,   0,   0,   0,   0,   0,   0,\n",
              "          0,   0],\n",
              "       [  0,   0,   0,   0,   0,   0,   0,   0,   0,   9,  75, 253, 252,\n",
              "        221, 137, 137,  21,   0,   0,   0,   0,   0,   0,   0,   0,   0,\n",
              "          0,   0],\n",
              "       [  0,   0,   0,   0,   0,   0,   0,   0,   0,   0,   0,   0,   0,\n",
              "          0,   0,   0,   0,   0,   0,   0,   0,   0,   0,   0,   0,   0,\n",
              "          0,   0],\n",
              "       [  0,   0,   0,   0,   0,   0,   0,   0,   0,   0,   0,   0,   0,\n",
              "          0,   0,   0,   0,   0,   0,   0,   0,   0,   0,   0,   0,   0,\n",
              "          0,   0],\n",
              "       [  0,   0,   0,   0,   0,   0,   0,   0,   0,   0,   0,   0,   0,\n",
              "          0,   0,   0,   0,   0,   0,   0,   0,   0,   0,   0,   0,   0,\n",
              "          0,   0]], dtype=uint8)"
            ],
            "text/html": [
              "<style>\n",
              "      .ndarray_repr .ndarray_raw_data {\n",
              "        display: none;\n",
              "      }\n",
              "      .ndarray_repr.show_array .ndarray_raw_data {\n",
              "        display: block;\n",
              "      }\n",
              "      .ndarray_repr.show_array .ndarray_image_preview {\n",
              "        display: none;\n",
              "      }\n",
              "      </style>\n",
              "      <div id=\"id-123bbb10-02a1-445c-a813-af0b00b5edfe\" class=\"ndarray_repr\"><pre>ndarray (28, 28) <button style=\"padding: 0 2px;\">show data</button></pre><img src=\"data:image/png;base64,iVBORw0KGgoAAAANSUhEUgAAABwAAAAcCAAAAABXZoBIAAABJElEQVR4nM2RO0sDURCFz/qIRE0lK6QTUQsfGEglWKnEQgvBIo0ggj9ARFCwVXTRXyAoiAgSrMRiEQQ7Cze2FnlgZbGxCISAi2dYiyyJufeWFk51mG/mMIcB/llZv3Q2PbTqTbz33npPvjq3LiQpJFlfUTYX7t72Inmcqs29Auhqwt1YolRuyOlU/0Cb6c4XZS3y/5DzWDsM5HEcAEZyUrtQ7zlk/XQYmCmwMquFSuaFvutKdXPSENm+LJD0Rw0IQN8Lye8jE4ovh5K/KYbidOtwm8FBErgnpzSWLvIZAMYeeNajQpe0AQDz5GDU62hhrwIA+Gx1mtCyGj/oXLSCULW9IgEAG2RWP6jK/Uxmyy0zl9CjXEd/PjEwxJeEJcexDeiP6wefW3R9pZ+EHwAAAABJRU5ErkJggg==\" class=\"ndarray_image_preview\" /><pre class=\"ndarray_raw_data\">array([[  0,   0,   0,   0,   0,   0,   0,   0,   0,   0,   0,   0,   0,\n",
              "          0,   0,   0,   0,   0,   0,   0,   0,   0,   0,   0,   0,   0,\n",
              "          0,   0],\n",
              "       [  0,   0,   0,   0,   0,   0,   0,   0,   0,   0,   0,   0,   0,\n",
              "          0,   0,   0,   0,   0,   0,   0,   0,   0,   0,   0,   0,   0,\n",
              "          0,   0],\n",
              "       [  0,   0,   0,   0,   0,   0,   0,   0,   0,   0,   0,   0,   0,\n",
              "          0,   0,   0,   0,   0,   0,   0,   0,   0,   0,   0,   0,   0,\n",
              "          0,   0],\n",
              "       [  0,   0,   0,   0,   0,   0,   0,   0,   0,   0,   0,   0,   0,\n",
              "          0,   0,   0,   0,   0,   0,   0,   0,   0,   0,   0,   0,   0,\n",
              "          0,   0],\n",
              "       [  0,   0,   0,   0,   0,   0,   0,   0,   0,   0,   0,   0,   0,\n",
              "          0,   0,   0,   0,   0,   0,   0,   0,   0,   0,   0,   0,   0,\n",
              "          0,   0],\n",
              "       [  0,   0,   0,   0,   0,   0,   0,   0,   0,   0,   0,  87, 138,\n",
              "        170, 253, 201, 244, 212, 222, 138,  86,  22,   0,   0,   0,   0,\n",
              "          0,   0],\n",
              "       [  0,   0,   0,   0,   0,   0,   0,   0,   0,   0,  95, 253, 252,\n",
              "        252, 252, 252, 253, 252, 252, 252, 252, 245,  80,   0,   0,   0,\n",
              "          0,   0],\n",
              "       [  0,   0,   0,   0,   0,   0,   0,   0,   0,  68, 246, 205,  69,\n",
              "         69,  69,  69,  69,  69,  69,  69, 205, 253, 240,  50,   0,   0,\n",
              "          0,   0],\n",
              "       [  0,   0,   0,   0,   0,   0,   0,   0,   0, 187, 252, 218,  34,\n",
              "          0,   0,   0,   0,   0,   0,   0, 116, 253, 252,  69,   0,   0,\n",
              "          0,   0],\n",
              "       [  0,   0,   0,   0,   0,   0,   0,   0, 116, 248, 252, 253,  92,\n",
              "          0,   0,   0,   0,   0,   0,  95, 230, 253, 157,   6,   0,   0,\n",
              "          0,   0],\n",
              "       [  0,   0,   0,   0,   0,   0,   0,   0, 116, 249, 253, 189,  42,\n",
              "          0,   0,   0,   0,  36, 170, 253, 243, 158,   0,   0,   0,   0,\n",
              "          0,   0],\n",
              "       [  0,   0,   0,   0,   0,   0,   0,   0,   0, 133, 252, 245, 140,\n",
              "         34,   0,   0,  57, 219, 252, 235,  60,   0,   0,   0,   0,   0,\n",
              "          0,   0],\n",
              "       [  0,   0,   0,   0,   0,   0,   0,   0,   0,  25, 205, 253, 252,\n",
              "        234, 184, 184, 253, 240, 100,  44,   0,   0,   0,   0,   0,   0,\n",
              "          0,   0],\n",
              "       [  0,   0,   0,   0,   0,   0,   0,   0,   0,   0,  21, 161, 219,\n",
              "        252, 252, 252, 234,  37,   0,   0,   0,   0,   0,   0,   0,   0,\n",
              "          0,   0],\n",
              "       [  0,   0,   0,   0,   0,   0,   0,   0,   0,   0,   0,  11, 203,\n",
              "        252, 252, 252, 251, 135,   0,   0,   0,   0,   0,   0,   0,   0,\n",
              "          0,   0],\n",
              "       [  0,   0,   0,   0,   0,   0,   0,   0,   0,   9,  76, 255, 253,\n",
              "        205, 168, 220, 255, 253, 137,   5,   0,   0,   0,   0,   0,   0,\n",
              "          0,   0],\n",
              "       [  0,   0,   0,   0,   0,   0,   0,   0,   0, 114, 252, 249, 132,\n",
              "         25,   0,   0, 180, 252, 252,  45,   0,   0,   0,   0,   0,   0,\n",
              "          0,   0],\n",
              "       [  0,   0,   0,   0,   0,   0,   0,   0,  51, 220, 252, 199,   0,\n",
              "          0,   0,   0,  38, 186, 252, 154,   7,   0,   0,   0,   0,   0,\n",
              "          0,   0],\n",
              "       [  0,   0,   0,   0,   0,   0,   0,   0, 184, 252, 252,  21,   0,\n",
              "          0,   0,   0,   0,  67, 252, 252,  22,   0,   0,   0,   0,   0,\n",
              "          0,   0],\n",
              "       [  0,   0,   0,   0,   0,   0,   0,   0, 184, 252, 200,   0,   0,\n",
              "          0,   0,   0,   0,  47, 252, 252,  22,   0,   0,   0,   0,   0,\n",
              "          0,   0],\n",
              "       [  0,   0,   0,   0,   0,   0,   0,   0, 185, 253, 201,   0,   0,\n",
              "          0,   0,   0,   3, 118, 253, 245,  21,   0,   0,   0,   0,   0,\n",
              "          0,   0],\n",
              "       [  0,   0,   0,   0,   0,   0,   0,   0, 163, 252, 252,   0,   0,\n",
              "          0,   0,   0,  97, 252, 252,  87,   0,   0,   0,   0,   0,   0,\n",
              "          0,   0],\n",
              "       [  0,   0,   0,   0,   0,   0,   0,   0,  51, 240, 252, 123,  70,\n",
              "         70, 112, 184, 222, 252, 170,  13,   0,   0,   0,   0,   0,   0,\n",
              "          0,   0],\n",
              "       [  0,   0,   0,   0,   0,   0,   0,   0,   0, 165, 252, 253, 252,\n",
              "        252, 252, 252, 245, 139,  13,   0,   0,   0,   0,   0,   0,   0,\n",
              "          0,   0],\n",
              "       [  0,   0,   0,   0,   0,   0,   0,   0,   0,   9,  75, 253, 252,\n",
              "        221, 137, 137,  21,   0,   0,   0,   0,   0,   0,   0,   0,   0,\n",
              "          0,   0],\n",
              "       [  0,   0,   0,   0,   0,   0,   0,   0,   0,   0,   0,   0,   0,\n",
              "          0,   0,   0,   0,   0,   0,   0,   0,   0,   0,   0,   0,   0,\n",
              "          0,   0],\n",
              "       [  0,   0,   0,   0,   0,   0,   0,   0,   0,   0,   0,   0,   0,\n",
              "          0,   0,   0,   0,   0,   0,   0,   0,   0,   0,   0,   0,   0,\n",
              "          0,   0],\n",
              "       [  0,   0,   0,   0,   0,   0,   0,   0,   0,   0,   0,   0,   0,\n",
              "          0,   0,   0,   0,   0,   0,   0,   0,   0,   0,   0,   0,   0,\n",
              "          0,   0]], dtype=uint8)</pre></div><script>\n",
              "      (() => {\n",
              "      const titles = ['show data', 'hide data'];\n",
              "      let index = 0\n",
              "      document.querySelector('#id-123bbb10-02a1-445c-a813-af0b00b5edfe button').onclick = (e) => {\n",
              "        document.querySelector('#id-123bbb10-02a1-445c-a813-af0b00b5edfe').classList.toggle('show_array');\n",
              "        index = (++index) % 2;\n",
              "        document.querySelector('#id-123bbb10-02a1-445c-a813-af0b00b5edfe button').textContent = titles[index];\n",
              "        e.preventDefault();\n",
              "        e.stopPropagation();\n",
              "      }\n",
              "      })();\n",
              "    </script>"
            ]
          },
          "metadata": {},
          "execution_count": 4
        }
      ],
      "source": [
        "x_train[333]"
      ]
    },
    {
      "cell_type": "markdown",
      "id": "compact-disposal",
      "metadata": {
        "id": "compact-disposal"
      },
      "source": [
        "Check the corresponding label in the training set"
      ]
    },
    {
      "cell_type": "code",
      "execution_count": null,
      "id": "cutting-gentleman",
      "metadata": {
        "id": "cutting-gentleman",
        "colab": {
          "base_uri": "https://localhost:8080/"
        },
        "outputId": "59197d8a-8125-453e-f0ab-8a33cd5cd3bb"
      },
      "outputs": [
        {
          "output_type": "execute_result",
          "data": {
            "text/plain": [
              "8"
            ]
          },
          "metadata": {},
          "execution_count": 5
        }
      ],
      "source": [
        "\n",
        "y_train[333]"
      ]
    },
    {
      "cell_type": "code",
      "execution_count": null,
      "id": "tight-motivation",
      "metadata": {
        "id": "tight-motivation",
        "colab": {
          "base_uri": "https://localhost:8080/",
          "height": 447
        },
        "outputId": "651b617d-554e-48bf-af07-96f54f25145b"
      },
      "outputs": [
        {
          "output_type": "execute_result",
          "data": {
            "text/plain": [
              "<matplotlib.image.AxesImage at 0x7b64f2498a30>"
            ]
          },
          "metadata": {},
          "execution_count": 6
        },
        {
          "output_type": "display_data",
          "data": {
            "text/plain": [
              "<Figure size 640x480 with 1 Axes>"
            ],
            "image/png": "[encoded data removed]"
          },
          "metadata": {}
        }
      ],
      "source": [
        "#Check the actual image\n",
        "plt.imshow(x_train[333], cmap='Greys_r')"
      ]
    },
    {
      "cell_type": "markdown",
      "id": "brutal-young",
      "metadata": {
        "id": "brutal-young"
      },
      "source": [
        "Check the shape of the x_train and x_test"
      ]
    },
    {
      "cell_type": "code",
      "execution_count": null,
      "id": "residential-rouge",
      "metadata": {
        "id": "residential-rouge",
        "colab": {
          "base_uri": "https://localhost:8080/"
        },
        "outputId": "cb370c2f-8006-418b-a1e1-0e37d9fc462b"
      },
      "outputs": [
        {
          "output_type": "stream",
          "name": "stdout",
          "text": [
            "(60000, 28, 28) train samples\n",
            "(10000, 28, 28) test samples\n"
          ]
        }
      ],
      "source": [
        "\n",
        "print(x_train.shape, 'train samples')\n",
        "print(x_test.shape, 'test samples')"
      ]
    },
    {
      "cell_type": "markdown",
      "id": "secret-parameter",
      "metadata": {
        "id": "secret-parameter"
      },
      "source": [
        "* Convert the x_train and x_test\n",
        "* Cast the numbers to floats\n",
        "* Normalize the inputs"
      ]
    },
    {
      "cell_type": "code",
      "execution_count": null,
      "id": "intense-daisy",
      "metadata": {
        "id": "intense-daisy"
      },
      "outputs": [],
      "source": [
        "\n",
        "x_train = x_train.reshape(len(x_train), 28*28)\n",
        "x_test = x_test.reshape(len(x_test), 28*28)\n",
        "\n",
        "\n",
        "x_train = x_train.astype('float32')\n",
        "x_test = x_test.astype('float32')\n",
        "\n",
        "\n",
        "x_train /= 255\n",
        "x_test /= 255\n"
      ]
    },
    {
      "cell_type": "markdown",
      "id": "celtic-output",
      "metadata": {
        "id": "celtic-output"
      },
      "source": [
        "Convert class vectors to binary class matrices"
      ]
    },
    {
      "cell_type": "code",
      "execution_count": null,
      "id": "confidential-incentive",
      "metadata": {
        "id": "confidential-incentive",
        "colab": {
          "base_uri": "https://localhost:8080/"
        },
        "outputId": "2f9c5d61-05c1-4c20-de1a-c21adf91313a"
      },
      "outputs": [
        {
          "output_type": "execute_result",
          "data": {
            "text/plain": [
              "array([0., 0., 0., 0., 0., 0., 0., 0., 1., 0.], dtype=float32)"
            ]
          },
          "metadata": {},
          "execution_count": 9
        }
      ],
      "source": [
        "\n",
        "num_classes = 10\n",
        "y_train = keras.utils.to_categorical(y_train, num_classes)\n",
        "y_test = keras.utils.to_categorical(y_test, num_classes)\n",
        "\n",
        "y_train[333]  # now the digit k is represented by a 1 in the kth entry (0-indexed) of the length 10 vector"
      ]
    },
    {
      "cell_type": "markdown",
      "id": "lightweight-walter",
      "metadata": {
        "id": "lightweight-walter"
      },
      "source": [
        "* Build the model with two hidden layers of size 512.\n",
        "* Use dropout of 0.2\n",
        "* Check the model summary"
      ]
    },
    {
      "cell_type": "code",
      "execution_count": null,
      "id": "level-blair",
      "metadata": {
        "id": "level-blair"
      },
      "outputs": [],
      "source": [
        "\n",
        "model = Sequential()\n",
        "model.add(Dense(64, activation='relu', input_shape=(784,)))\n",
        "model.add(Dropout(0.2))\n",
        "model.add(Dense(64, activation='relu'))\n",
        "model.add(Dropout(0.2))\n",
        "model.add(Dense(10, activation='softmax'))"
      ]
    },
    {
      "cell_type": "code",
      "execution_count": null,
      "id": "filled-class",
      "metadata": {
        "id": "filled-class",
        "colab": {
          "base_uri": "https://localhost:8080/"
        },
        "outputId": "5ddb4331-abb4-48c6-cbcb-29581b0981ab"
      },
      "outputs": [
        {
          "output_type": "stream",
          "name": "stdout",
          "text": [
            "Model: \"sequential\"\n",
            "_________________________________________________________________\n",
            " Layer (type)                Output Shape              Param #   \n",
            "=================================================================\n",
            " dense (Dense)               (None, 64)                50240     \n",
            "                                                                 \n",
            " dropout (Dropout)           (None, 64)                0         \n",
            "                                                                 \n",
            " dense_1 (Dense)             (None, 64)                4160      \n",
            "                                                                 \n",
            " dropout_1 (Dropout)         (None, 64)                0         \n",
            "                                                                 \n",
            " dense_2 (Dense)             (None, 10)                650       \n",
            "                                                                 \n",
            "=================================================================\n",
            "Total params: 55050 (215.04 KB)\n",
            "Trainable params: 55050 (215.04 KB)\n",
            "Non-trainable params: 0 (0.00 Byte)\n",
            "_________________________________________________________________\n"
          ]
        }
      ],
      "source": [
        "model.summary()"
      ]
    },
    {
      "cell_type": "markdown",
      "id": "thrown-entry",
      "metadata": {
        "id": "thrown-entry"
      },
      "source": [
        "Compile the model using learning rate of 0.001 and optimizer of RMSprop"
      ]
    },
    {
      "cell_type": "code",
      "execution_count": null,
      "id": "oriental-family",
      "metadata": {
        "id": "oriental-family",
        "colab": {
          "base_uri": "https://localhost:8080/"
        },
        "outputId": "b0cbd7cf-5316-4f10-8e3c-7a50d135cf29"
      },
      "outputs": [
        {
          "output_type": "stream",
          "name": "stderr",
          "text": [
            "WARNING:absl:`lr` is deprecated in Keras optimizer, please use `learning_rate` or use the legacy optimizer, e.g.,tf.keras.optimizers.legacy.RMSprop.\n"
          ]
        },
        {
          "output_type": "stream",
          "name": "stdout",
          "text": [
            "Epoch 1/30\n",
            "469/469 [==============================] - 4s 6ms/step - loss: 0.5130 - accuracy: 0.8459 - val_loss: 0.2082 - val_accuracy: 0.9350\n",
            "Epoch 2/30\n",
            "469/469 [==============================] - 4s 8ms/step - loss: 0.2513 - accuracy: 0.9262 - val_loss: 0.1503 - val_accuracy: 0.9532\n",
            "Epoch 3/30\n",
            "469/469 [==============================] - 3s 6ms/step - loss: 0.2016 - accuracy: 0.9396 - val_loss: 0.1332 - val_accuracy: 0.9577\n",
            "Epoch 4/30\n",
            "469/469 [==============================] - 3s 6ms/step - loss: 0.1766 - accuracy: 0.9481 - val_loss: 0.1176 - val_accuracy: 0.9638\n",
            "Epoch 5/30\n",
            "469/469 [==============================] - 4s 9ms/step - loss: 0.1592 - accuracy: 0.9526 - val_loss: 0.1074 - val_accuracy: 0.9660\n",
            "Epoch 6/30\n",
            "469/469 [==============================] - 4s 8ms/step - loss: 0.1460 - accuracy: 0.9567 - val_loss: 0.1010 - val_accuracy: 0.9689\n",
            "Epoch 7/30\n",
            "469/469 [==============================] - 4s 8ms/step - loss: 0.1337 - accuracy: 0.9594 - val_loss: 0.0997 - val_accuracy: 0.9714\n",
            "Epoch 8/30\n",
            "469/469 [==============================] - 4s 9ms/step - loss: 0.1292 - accuracy: 0.9619 - val_loss: 0.0938 - val_accuracy: 0.9724\n",
            "Epoch 9/30\n",
            "469/469 [==============================] - 4s 8ms/step - loss: 0.1233 - accuracy: 0.9632 - val_loss: 0.0921 - val_accuracy: 0.9733\n",
            "Epoch 10/30\n",
            "469/469 [==============================] - 3s 7ms/step - loss: 0.1179 - accuracy: 0.9645 - val_loss: 0.0930 - val_accuracy: 0.9724\n",
            "Epoch 11/30\n",
            "469/469 [==============================] - 3s 7ms/step - loss: 0.1145 - accuracy: 0.9656 - val_loss: 0.0996 - val_accuracy: 0.9715\n",
            "Epoch 12/30\n",
            "469/469 [==============================] - 5s 11ms/step - loss: 0.1071 - accuracy: 0.9680 - val_loss: 0.0924 - val_accuracy: 0.9728\n",
            "Epoch 13/30\n",
            "469/469 [==============================] - 3s 7ms/step - loss: 0.1062 - accuracy: 0.9678 - val_loss: 0.0859 - val_accuracy: 0.9758\n",
            "Epoch 14/30\n",
            "469/469 [==============================] - 2s 5ms/step - loss: 0.1030 - accuracy: 0.9696 - val_loss: 0.0870 - val_accuracy: 0.9751\n",
            "Epoch 15/30\n",
            "469/469 [==============================] - 2s 5ms/step - loss: 0.0989 - accuracy: 0.9701 - val_loss: 0.0917 - val_accuracy: 0.9736\n",
            "Epoch 16/30\n",
            "469/469 [==============================] - 2s 5ms/step - loss: 0.0964 - accuracy: 0.9714 - val_loss: 0.0932 - val_accuracy: 0.9745\n",
            "Epoch 17/30\n",
            "469/469 [==============================] - 3s 5ms/step - loss: 0.0959 - accuracy: 0.9718 - val_loss: 0.0901 - val_accuracy: 0.9756\n",
            "Epoch 18/30\n",
            "469/469 [==============================] - 2s 4ms/step - loss: 0.0930 - accuracy: 0.9722 - val_loss: 0.0872 - val_accuracy: 0.9755\n",
            "Epoch 19/30\n",
            "469/469 [==============================] - 2s 5ms/step - loss: 0.0915 - accuracy: 0.9725 - val_loss: 0.0889 - val_accuracy: 0.9757\n",
            "Epoch 20/30\n",
            "469/469 [==============================] - 2s 5ms/step - loss: 0.0924 - accuracy: 0.9719 - val_loss: 0.0914 - val_accuracy: 0.9754\n",
            "Epoch 21/30\n",
            "469/469 [==============================] - 2s 5ms/step - loss: 0.0890 - accuracy: 0.9735 - val_loss: 0.0893 - val_accuracy: 0.9762\n",
            "Epoch 22/30\n",
            "469/469 [==============================] - 3s 6ms/step - loss: 0.0871 - accuracy: 0.9740 - val_loss: 0.0863 - val_accuracy: 0.9765\n",
            "Epoch 23/30\n",
            "469/469 [==============================] - 2s 5ms/step - loss: 0.0860 - accuracy: 0.9749 - val_loss: 0.0887 - val_accuracy: 0.9770\n",
            "Epoch 24/30\n",
            "469/469 [==============================] - 2s 5ms/step - loss: 0.0856 - accuracy: 0.9753 - val_loss: 0.0909 - val_accuracy: 0.9750\n",
            "Epoch 25/30\n",
            "469/469 [==============================] - 2s 5ms/step - loss: 0.0831 - accuracy: 0.9751 - val_loss: 0.0906 - val_accuracy: 0.9760\n",
            "Epoch 26/30\n",
            "469/469 [==============================] - 2s 4ms/step - loss: 0.0836 - accuracy: 0.9744 - val_loss: 0.0919 - val_accuracy: 0.9773\n",
            "Epoch 27/30\n",
            "469/469 [==============================] - 2s 5ms/step - loss: 0.0807 - accuracy: 0.9758 - val_loss: 0.0960 - val_accuracy: 0.9766\n",
            "Epoch 28/30\n",
            "469/469 [==============================] - 3s 6ms/step - loss: 0.0787 - accuracy: 0.9767 - val_loss: 0.0942 - val_accuracy: 0.9767\n",
            "Epoch 29/30\n",
            "469/469 [==============================] - 2s 5ms/step - loss: 0.0807 - accuracy: 0.9764 - val_loss: 0.0887 - val_accuracy: 0.9771\n",
            "Epoch 30/30\n",
            "469/469 [==============================] - 2s 5ms/step - loss: 0.0780 - accuracy: 0.9772 - val_loss: 0.0933 - val_accuracy: 0.9768\n"
          ]
        }
      ],
      "source": [
        "learning_rate = .001\n",
        "model.compile(loss='categorical_crossentropy',\n",
        "              optimizer=RMSprop(lr=learning_rate),\n",
        "              metrics=['accuracy'])\n",
        "batch_size = 128  # mini-batch with 128 examples\n",
        "epochs = 30\n",
        "history = model.fit(\n",
        "    x_train, y_train,\n",
        "    batch_size=batch_size,\n",
        "    epochs=epochs,\n",
        "    verbose=1,\n",
        "    validation_data=(x_test, y_test))"
      ]
    },
    {
      "cell_type": "markdown",
      "id": "forty-trout",
      "metadata": {
        "id": "forty-trout"
      },
      "source": [
        "Use Keras evaluate function to evaluate performance on the test set"
      ]
    },
    {
      "cell_type": "code",
      "execution_count": null,
      "id": "random-ballet",
      "metadata": {
        "id": "random-ballet",
        "colab": {
          "base_uri": "https://localhost:8080/"
        },
        "outputId": "45f9065a-ef34-4ef9-fc97-09a85f4e55fa"
      },
      "outputs": [
        {
          "output_type": "stream",
          "name": "stdout",
          "text": [
            "Test loss: 0.09326819330453873\n",
            "Test accuracy: 0.9768000245094299\n"
          ]
        }
      ],
      "source": [
        "\n",
        "score = model.evaluate(x_test, y_test, verbose=0)\n",
        "print('Test loss:', score[0])\n",
        "print('Test accuracy:', score[1])"
      ]
    },
    {
      "cell_type": "markdown",
      "id": "fatal-tournament",
      "metadata": {
        "id": "fatal-tournament"
      },
      "source": [
        "> The high accuracy and low test loss means that the model performed well on the test set. The dropout regularization model was used which during training drops out a percentage of neurons in each layer. This creates an ensemble of multiple subnetworks within the same architecture. This method works well for this model since it encourages it to learn more robust and generalizable features by preventing neurons from adapting too much."
      ]
    },
    {
      "cell_type": "code",
      "execution_count": null,
      "id": "imported-impression",
      "metadata": {
        "id": "imported-impression",
        "colab": {
          "base_uri": "https://localhost:8080/",
          "height": 545
        },
        "outputId": "af7d74ee-559b-4689-8b61-dc5ba736d379"
      },
      "outputs": [
        {
          "output_type": "display_data",
          "data": {
            "text/plain": [
              "<Figure size 1200x600 with 2 Axes>"
            ],
            "image/png": "[encoded data removed]"
          },
          "metadata": {}
        }
      ],
      "source": [
        "def plot_loss_accuracy(history):\n",
        "    fig = plt.figure(figsize=(12, 6))\n",
        "    ax = fig.add_subplot(1, 2, 1)\n",
        "    ax.plot(history.history[\"loss\"],'r-x', label=\"Train Loss\")\n",
        "    ax.plot(history.history[\"val_loss\"],'b-x', label=\"Validation Loss\")\n",
        "    ax.legend()\n",
        "    ax.set_title('cross_entropy loss')\n",
        "    ax.grid(True)\n",
        "\n",
        "\n",
        "    ax = fig.add_subplot(1, 2, 2)\n",
        "    ax.plot(history.history[\"accuracy\"],'r-x', label=\"Train Accuracy\")\n",
        "    ax.plot(history.history[\"val_accuracy\"],'b-x', label=\"Validation Accuracy\")\n",
        "    ax.legend()\n",
        "    ax.set_title('accuracy')\n",
        "    ax.grid(True)\n",
        "\n",
        "\n",
        "plot_loss_accuracy(history)"
      ]
    },
    {
      "cell_type": "markdown",
      "id": "acoustic-recipient",
      "metadata": {
        "id": "acoustic-recipient"
      },
      "source": [
        "# As shown in the graph above, we can tell that the model performed well because the train and validation loss are low and also relatively consistent. The train and validation accuracy is high as well which is good."
      ]
    },
    {
      "cell_type": "markdown",
      "id": "three-terrorist",
      "metadata": {
        "id": "three-terrorist"
      },
      "source": [
        "#### Supplementary Activity\n",
        "\n",
        "* Use the Keras \"Sequential\" functionality to build a new model (model_1) with the following specifications:\n",
        "\n",
        "1. Two hidden layers.\n",
        "2. First hidden layer of size 400 and second of size 300\n",
        "3. Dropout of .4 at each layer\n",
        "4. How many parameters does your model have?  How does it compare with the previous model?\n",
        "5. Train this model for 20 epochs with RMSProp at a learning rate of .001 and a batch size of 128\n",
        "6. Use at least two  regularization techniques and apply it to the new model (model_2)\n",
        "7. Train this model for your preferred epochs , learning rate, batch size and optimizer\n",
        "8. Compare the accuracy and loss (training and validation) of model_1 and model_2"
      ]
    },
    {
      "cell_type": "code",
      "source": [
        "from google.colab import drive\n",
        "drive.mount('/content/drive')\n",
        "import pandas as pd\n"
      ],
      "metadata": {
        "colab": {
          "base_uri": "https://localhost:8080/"
        },
        "id": "O3Voz9Kh7ryF",
        "outputId": "e00dec11-5f26-438b-c19d-31056b2fa697"
      },
      "id": "O3Voz9Kh7ryF",
      "execution_count": 204,
      "outputs": [
        {
          "output_type": "stream",
          "name": "stdout",
          "text": [
            "Drive already mounted at /content/drive; to attempt to forcibly remount, call drive.mount(\"/content/drive\", force_remount=True).\n"
          ]
        }
      ]
    },
    {
      "cell_type": "code",
      "source": [
        "from sklearn.model_selection import train_test_split\n",
        "from sklearn.preprocessing import StandardScaler\n",
        "from keras.optimizers import RMSprop\n",
        "from keras.optimizers import SGD\n",
        "from keras.optimizers import Adam\n",
        "from keras.optimizers import Adagrad\n",
        "from keras.optimizers import Adadelta\n",
        "from keras import regularizers\n",
        "from keras.callbacks import EarlyStopping"
      ],
      "metadata": {
        "id": "LMNTrEe1G7bN"
      },
      "id": "LMNTrEe1G7bN",
      "execution_count": 234,
      "outputs": []
    },
    {
      "cell_type": "code",
      "execution_count": 206,
      "id": "responsible-preserve",
      "metadata": {
        "id": "responsible-preserve",
        "colab": {
          "base_uri": "https://localhost:8080/",
          "height": 424
        },
        "outputId": "faa1e4e1-4f00-4fe9-bc89-7e6375f60e09"
      },
      "outputs": [
        {
          "output_type": "execute_result",
          "data": {
            "text/plain": [
              "        A_id      Size    Weight  Sweetness  Crunchiness  Juiciness  Ripeness  \\\n",
              "0        0.0 -3.970049 -2.512336   5.346330    -1.012009   1.844900  0.329840   \n",
              "1        1.0 -1.195217 -2.839257   3.664059     1.588232   0.853286  0.867530   \n",
              "2        2.0 -0.292024 -1.351282  -1.738429    -0.342616   2.838636 -0.038033   \n",
              "3        3.0 -0.657196 -2.271627   1.324874    -0.097875   3.637970 -3.413761   \n",
              "4        4.0  1.364217 -1.296612  -0.384658    -0.553006   3.030874 -1.303849   \n",
              "...      ...       ...       ...        ...          ...        ...       ...   \n",
              "3995  3995.0  0.059386 -1.067408  -3.714549     0.473052   1.697986  2.244055   \n",
              "3996  3996.0 -0.293118  1.949253  -0.204020    -0.640196   0.024523 -1.087900   \n",
              "3997  3997.0 -2.634515 -2.138247  -2.440461     0.657223   2.199709  4.763859   \n",
              "3998  3998.0 -4.008004 -1.779337   2.366397    -0.200329   2.161435  0.214488   \n",
              "3999  3999.0  0.278540 -1.715505   0.121217    -1.154075   1.266677 -0.776571   \n",
              "\n",
              "           Acidity Quality  \n",
              "0     -0.491590483    good  \n",
              "1     -0.722809367    good  \n",
              "2      2.621636473     bad  \n",
              "3      0.790723217    good  \n",
              "4      0.501984036    good  \n",
              "...            ...     ...  \n",
              "3995   0.137784369     bad  \n",
              "3996   1.854235285    good  \n",
              "3997  -1.334611391     bad  \n",
              "3998  -2.229719806    good  \n",
              "3999   1.599796456    good  \n",
              "\n",
              "[4000 rows x 9 columns]"
            ],
            "text/html": [
              "\n",
              "  <div id=\"df-34b886d8-fd99-4d9f-9381-69c782d2a957\" class=\"colab-df-container\">\n",
              "    <div>\n",
              "<style scoped>\n",
              "    .dataframe tbody tr th:only-of-type {\n",
              "        vertical-align: middle;\n",
              "    }\n",
              "\n",
              "    .dataframe tbody tr th {\n",
              "        vertical-align: top;\n",
              "    }\n",
              "\n",
              "    .dataframe thead th {\n",
              "        text-align: right;\n",
              "    }\n",
              "</style>\n",
              "<table border=\"1\" class=\"dataframe\">\n",
              "  <thead>\n",
              "    <tr style=\"text-align: right;\">\n",
              "      <th></th>\n",
              "      <th>A_id</th>\n",
              "      <th>Size</th>\n",
              "      <th>Weight</th>\n",
              "      <th>Sweetness</th>\n",
              "      <th>Crunchiness</th>\n",
              "      <th>Juiciness</th>\n",
              "      <th>Ripeness</th>\n",
              "      <th>Acidity</th>\n",
              "      <th>Quality</th>\n",
              "    </tr>\n",
              "  </thead>\n",
              "  <tbody>\n",
              "    <tr>\n",
              "      <th>0</th>\n",
              "      <td>0.0</td>\n",
              "      <td>-3.970049</td>\n",
              "      <td>-2.512336</td>\n",
              "      <td>5.346330</td>\n",
              "      <td>-1.012009</td>\n",
              "      <td>1.844900</td>\n",
              "      <td>0.329840</td>\n",
              "      <td>-0.491590483</td>\n",
              "      <td>good</td>\n",
              "    </tr>\n",
              "    <tr>\n",
              "      <th>1</th>\n",
              "      <td>1.0</td>\n",
              "      <td>-1.195217</td>\n",
              "      <td>-2.839257</td>\n",
              "      <td>3.664059</td>\n",
              "      <td>1.588232</td>\n",
              "      <td>0.853286</td>\n",
              "      <td>0.867530</td>\n",
              "      <td>-0.722809367</td>\n",
              "      <td>good</td>\n",
              "    </tr>\n",
              "    <tr>\n",
              "      <th>2</th>\n",
              "      <td>2.0</td>\n",
              "      <td>-0.292024</td>\n",
              "      <td>-1.351282</td>\n",
              "      <td>-1.738429</td>\n",
              "      <td>-0.342616</td>\n",
              "      <td>2.838636</td>\n",
              "      <td>-0.038033</td>\n",
              "      <td>2.621636473</td>\n",
              "      <td>bad</td>\n",
              "    </tr>\n",
              "    <tr>\n",
              "      <th>3</th>\n",
              "      <td>3.0</td>\n",
              "      <td>-0.657196</td>\n",
              "      <td>-2.271627</td>\n",
              "      <td>1.324874</td>\n",
              "      <td>-0.097875</td>\n",
              "      <td>3.637970</td>\n",
              "      <td>-3.413761</td>\n",
              "      <td>0.790723217</td>\n",
              "      <td>good</td>\n",
              "    </tr>\n",
              "    <tr>\n",
              "      <th>4</th>\n",
              "      <td>4.0</td>\n",
              "      <td>1.364217</td>\n",
              "      <td>-1.296612</td>\n",
              "      <td>-0.384658</td>\n",
              "      <td>-0.553006</td>\n",
              "      <td>3.030874</td>\n",
              "      <td>-1.303849</td>\n",
              "      <td>0.501984036</td>\n",
              "      <td>good</td>\n",
              "    </tr>\n",
              "    <tr>\n",
              "      <th>...</th>\n",
              "      <td>...</td>\n",
              "      <td>...</td>\n",
              "      <td>...</td>\n",
              "      <td>...</td>\n",
              "      <td>...</td>\n",
              "      <td>...</td>\n",
              "      <td>...</td>\n",
              "      <td>...</td>\n",
              "      <td>...</td>\n",
              "    </tr>\n",
              "    <tr>\n",
              "      <th>3995</th>\n",
              "      <td>3995.0</td>\n",
              "      <td>0.059386</td>\n",
              "      <td>-1.067408</td>\n",
              "      <td>-3.714549</td>\n",
              "      <td>0.473052</td>\n",
              "      <td>1.697986</td>\n",
              "      <td>2.244055</td>\n",
              "      <td>0.137784369</td>\n",
              "      <td>bad</td>\n",
              "    </tr>\n",
              "    <tr>\n",
              "      <th>3996</th>\n",
              "      <td>3996.0</td>\n",
              "      <td>-0.293118</td>\n",
              "      <td>1.949253</td>\n",
              "      <td>-0.204020</td>\n",
              "      <td>-0.640196</td>\n",
              "      <td>0.024523</td>\n",
              "      <td>-1.087900</td>\n",
              "      <td>1.854235285</td>\n",
              "      <td>good</td>\n",
              "    </tr>\n",
              "    <tr>\n",
              "      <th>3997</th>\n",
              "      <td>3997.0</td>\n",
              "      <td>-2.634515</td>\n",
              "      <td>-2.138247</td>\n",
              "      <td>-2.440461</td>\n",
              "      <td>0.657223</td>\n",
              "      <td>2.199709</td>\n",
              "      <td>4.763859</td>\n",
              "      <td>-1.334611391</td>\n",
              "      <td>bad</td>\n",
              "    </tr>\n",
              "    <tr>\n",
              "      <th>3998</th>\n",
              "      <td>3998.0</td>\n",
              "      <td>-4.008004</td>\n",
              "      <td>-1.779337</td>\n",
              "      <td>2.366397</td>\n",
              "      <td>-0.200329</td>\n",
              "      <td>2.161435</td>\n",
              "      <td>0.214488</td>\n",
              "      <td>-2.229719806</td>\n",
              "      <td>good</td>\n",
              "    </tr>\n",
              "    <tr>\n",
              "      <th>3999</th>\n",
              "      <td>3999.0</td>\n",
              "      <td>0.278540</td>\n",
              "      <td>-1.715505</td>\n",
              "      <td>0.121217</td>\n",
              "      <td>-1.154075</td>\n",
              "      <td>1.266677</td>\n",
              "      <td>-0.776571</td>\n",
              "      <td>1.599796456</td>\n",
              "      <td>good</td>\n",
              "    </tr>\n",
              "  </tbody>\n",
              "</table>\n",
              "<p>4000 rows × 9 columns</p>\n",
              "</div>\n",
              "    <div class=\"colab-df-buttons\">\n",
              "\n",
              "  <div class=\"colab-df-container\">\n",
              "    <button class=\"colab-df-convert\" onclick=\"convertToInteractive('df-34b886d8-fd99-4d9f-9381-69c782d2a957')\"\n",
              "            title=\"Convert this dataframe to an interactive table.\"\n",
              "            style=\"display:none;\">\n",
              "\n",
              "  <svg xmlns=\"http://www.w3.org/2000/svg\" height=\"24px\" viewBox=\"0 -960 960 960\">\n",
              "    <path d=\"M120-120v-720h720v720H120Zm60-500h600v-160H180v160Zm220 220h160v-160H400v160Zm0 220h160v-160H400v160ZM180-400h160v-160H180v160Zm440 0h160v-160H620v160ZM180-180h160v-160H180v160Zm440 0h160v-160H620v160Z\"/>\n",
              "  </svg>\n",
              "    </button>\n",
              "\n",
              "  <style>\n",
              "    .colab-df-container {\n",
              "      display:flex;\n",
              "      gap: 12px;\n",
              "    }\n",
              "\n",
              "    .colab-df-convert {\n",
              "      background-color: #E8F0FE;\n",
              "      border: none;\n",
              "      border-radius: 50%;\n",
              "      cursor: pointer;\n",
              "      display: none;\n",
              "      fill: #1967D2;\n",
              "      height: 32px;\n",
              "      padding: 0 0 0 0;\n",
              "      width: 32px;\n",
              "    }\n",
              "\n",
              "    .colab-df-convert:hover {\n",
              "      background-color: #E2EBFA;\n",
              "      box-shadow: 0px 1px 2px rgba(60, 64, 67, 0.3), 0px 1px 3px 1px rgba(60, 64, 67, 0.15);\n",
              "      fill: #174EA6;\n",
              "    }\n",
              "\n",
              "    .colab-df-buttons div {\n",
              "      margin-bottom: 4px;\n",
              "    }\n",
              "\n",
              "    [theme=dark] .colab-df-convert {\n",
              "      background-color: #3B4455;\n",
              "      fill: #D2E3FC;\n",
              "    }\n",
              "\n",
              "    [theme=dark] .colab-df-convert:hover {\n",
              "      background-color: #434B5C;\n",
              "      box-shadow: 0px 1px 3px 1px rgba(0, 0, 0, 0.15);\n",
              "      filter: drop-shadow(0px 1px 2px rgba(0, 0, 0, 0.3));\n",
              "      fill: #FFFFFF;\n",
              "    }\n",
              "  </style>\n",
              "\n",
              "    <script>\n",
              "      const buttonEl =\n",
              "        document.querySelector('#df-34b886d8-fd99-4d9f-9381-69c782d2a957 button.colab-df-convert');\n",
              "      buttonEl.style.display =\n",
              "        google.colab.kernel.accessAllowed ? 'block' : 'none';\n",
              "\n",
              "      async function convertToInteractive(key) {\n",
              "        const element = document.querySelector('#df-34b886d8-fd99-4d9f-9381-69c782d2a957');\n",
              "        const dataTable =\n",
              "          await google.colab.kernel.invokeFunction('convertToInteractive',\n",
              "                                                    [key], {});\n",
              "        if (!dataTable) return;\n",
              "\n",
              "        const docLinkHtml = 'Like what you see? Visit the ' +\n",
              "          '<a target=\"_blank\" href=https://colab.research.google.com/notebooks/data_table.ipynb>data table notebook</a>'\n",
              "          + ' to learn more about interactive tables.';\n",
              "        element.innerHTML = '';\n",
              "        dataTable['output_type'] = 'display_data';\n",
              "        await google.colab.output.renderOutput(dataTable, element);\n",
              "        const docLink = document.createElement('div');\n",
              "        docLink.innerHTML = docLinkHtml;\n",
              "        element.appendChild(docLink);\n",
              "      }\n",
              "    </script>\n",
              "  </div>\n",
              "\n",
              "\n",
              "<div id=\"df-88f26560-22ee-4880-9966-ace0127102f2\">\n",
              "  <button class=\"colab-df-quickchart\" onclick=\"quickchart('df-88f26560-22ee-4880-9966-ace0127102f2')\"\n",
              "            title=\"Suggest charts\"\n",
              "            style=\"display:none;\">\n",
              "\n",
              "<svg xmlns=\"http://www.w3.org/2000/svg\" height=\"24px\"viewBox=\"0 0 24 24\"\n",
              "     width=\"24px\">\n",
              "    <g>\n",
              "        <path d=\"M19 3H5c-1.1 0-2 .9-2 2v14c0 1.1.9 2 2 2h14c1.1 0 2-.9 2-2V5c0-1.1-.9-2-2-2zM9 17H7v-7h2v7zm4 0h-2V7h2v10zm4 0h-2v-4h2v4z\"/>\n",
              "    </g>\n",
              "</svg>\n",
              "  </button>\n",
              "\n",
              "<style>\n",
              "  .colab-df-quickchart {\n",
              "      --bg-color: #E8F0FE;\n",
              "      --fill-color: #1967D2;\n",
              "      --hover-bg-color: #E2EBFA;\n",
              "      --hover-fill-color: #174EA6;\n",
              "      --disabled-fill-color: #AAA;\n",
              "      --disabled-bg-color: #DDD;\n",
              "  }\n",
              "\n",
              "  [theme=dark] .colab-df-quickchart {\n",
              "      --bg-color: #3B4455;\n",
              "      --fill-color: #D2E3FC;\n",
              "      --hover-bg-color: #434B5C;\n",
              "      --hover-fill-color: #FFFFFF;\n",
              "      --disabled-bg-color: #3B4455;\n",
              "      --disabled-fill-color: #666;\n",
              "  }\n",
              "\n",
              "  .colab-df-quickchart {\n",
              "    background-color: var(--bg-color);\n",
              "    border: none;\n",
              "    border-radius: 50%;\n",
              "    cursor: pointer;\n",
              "    display: none;\n",
              "    fill: var(--fill-color);\n",
              "    height: 32px;\n",
              "    padding: 0;\n",
              "    width: 32px;\n",
              "  }\n",
              "\n",
              "  .colab-df-quickchart:hover {\n",
              "    background-color: var(--hover-bg-color);\n",
              "    box-shadow: 0 1px 2px rgba(60, 64, 67, 0.3), 0 1px 3px 1px rgba(60, 64, 67, 0.15);\n",
              "    fill: var(--button-hover-fill-color);\n",
              "  }\n",
              "\n",
              "  .colab-df-quickchart-complete:disabled,\n",
              "  .colab-df-quickchart-complete:disabled:hover {\n",
              "    background-color: var(--disabled-bg-color);\n",
              "    fill: var(--disabled-fill-color);\n",
              "    box-shadow: none;\n",
              "  }\n",
              "\n",
              "  .colab-df-spinner {\n",
              "    border: 2px solid var(--fill-color);\n",
              "    border-color: transparent;\n",
              "    border-bottom-color: var(--fill-color);\n",
              "    animation:\n",
              "      spin 1s steps(1) infinite;\n",
              "  }\n",
              "\n",
              "  @keyframes spin {\n",
              "    0% {\n",
              "      border-color: transparent;\n",
              "      border-bottom-color: var(--fill-color);\n",
              "      border-left-color: var(--fill-color);\n",
              "    }\n",
              "    20% {\n",
              "      border-color: transparent;\n",
              "      border-left-color: var(--fill-color);\n",
              "      border-top-color: var(--fill-color);\n",
              "    }\n",
              "    30% {\n",
              "      border-color: transparent;\n",
              "      border-left-color: var(--fill-color);\n",
              "      border-top-color: var(--fill-color);\n",
              "      border-right-color: var(--fill-color);\n",
              "    }\n",
              "    40% {\n",
              "      border-color: transparent;\n",
              "      border-right-color: var(--fill-color);\n",
              "      border-top-color: var(--fill-color);\n",
              "    }\n",
              "    60% {\n",
              "      border-color: transparent;\n",
              "      border-right-color: var(--fill-color);\n",
              "    }\n",
              "    80% {\n",
              "      border-color: transparent;\n",
              "      border-right-color: var(--fill-color);\n",
              "      border-bottom-color: var(--fill-color);\n",
              "    }\n",
              "    90% {\n",
              "      border-color: transparent;\n",
              "      border-bottom-color: var(--fill-color);\n",
              "    }\n",
              "  }\n",
              "</style>\n",
              "\n",
              "  <script>\n",
              "    async function quickchart(key) {\n",
              "      const quickchartButtonEl =\n",
              "        document.querySelector('#' + key + ' button');\n",
              "      quickchartButtonEl.disabled = true;  // To prevent multiple clicks.\n",
              "      quickchartButtonEl.classList.add('colab-df-spinner');\n",
              "      try {\n",
              "        const charts = await google.colab.kernel.invokeFunction(\n",
              "            'suggestCharts', [key], {});\n",
              "      } catch (error) {\n",
              "        console.error('Error during call to suggestCharts:', error);\n",
              "      }\n",
              "      quickchartButtonEl.classList.remove('colab-df-spinner');\n",
              "      quickchartButtonEl.classList.add('colab-df-quickchart-complete');\n",
              "    }\n",
              "    (() => {\n",
              "      let quickchartButtonEl =\n",
              "        document.querySelector('#df-88f26560-22ee-4880-9966-ace0127102f2 button');\n",
              "      quickchartButtonEl.style.display =\n",
              "        google.colab.kernel.accessAllowed ? 'block' : 'none';\n",
              "    })();\n",
              "  </script>\n",
              "</div>\n",
              "    </div>\n",
              "  </div>\n"
            ],
            "application/vnd.google.colaboratory.intrinsic+json": {
              "type": "dataframe",
              "variable_name": "apple_df",
              "summary": "{\n  \"name\": \"apple_df\",\n  \"rows\": 4000,\n  \"fields\": [\n    {\n      \"column\": \"A_id\",\n      \"properties\": {\n        \"dtype\": \"number\",\n        \"std\": 1154.8448669265786,\n        \"min\": 0.0,\n        \"max\": 3999.0,\n        \"samples\": [\n          555.0,\n          3491.0,\n          527.0\n        ],\n        \"num_unique_values\": 4000,\n        \"semantic_type\": \"\",\n        \"description\": \"\"\n      }\n    },\n    {\n      \"column\": \"Size\",\n      \"properties\": {\n        \"dtype\": \"number\",\n        \"std\": 1.928058688854979,\n        \"min\": -7.151703059,\n        \"max\": 6.406366899,\n        \"samples\": [\n          3.099410637,\n          1.439787602,\n          1.20678634\n        ],\n        \"num_unique_values\": 4000,\n        \"semantic_type\": \"\",\n        \"description\": \"\"\n      }\n    },\n    {\n      \"column\": \"Weight\",\n      \"properties\": {\n        \"dtype\": \"number\",\n        \"std\": 1.6025072141517547,\n        \"min\": -7.149847675,\n        \"max\": 5.79071359,\n        \"samples\": [\n          -1.691560679,\n          -0.223976263,\n          -0.508979201\n        ],\n        \"num_unique_values\": 4000,\n        \"semantic_type\": \"\",\n        \"description\": \"\"\n      }\n    },\n    {\n      \"column\": \"Sweetness\",\n      \"properties\": {\n        \"dtype\": \"number\",\n        \"std\": 1.943440658920452,\n        \"min\": -6.894485494,\n        \"max\": 6.374915513,\n        \"samples\": [\n          -3.679364,\n          -0.061448613,\n          1.736206944\n        ],\n        \"num_unique_values\": 4000,\n        \"semantic_type\": \"\",\n        \"description\": \"\"\n      }\n    },\n    {\n      \"column\": \"Crunchiness\",\n      \"properties\": {\n        \"dtype\": \"number\",\n        \"std\": 1.402757204211963,\n        \"min\": -6.055057805,\n        \"max\": 7.619851801,\n        \"samples\": [\n          0.963605627,\n          1.412704629,\n          1.301010753\n        ],\n        \"num_unique_values\": 4000,\n        \"semantic_type\": \"\",\n        \"description\": \"\"\n      }\n    },\n    {\n      \"column\": \"Juiciness\",\n      \"properties\": {\n        \"dtype\": \"number\",\n        \"std\": 1.9302856730942946,\n        \"min\": -5.961897048,\n        \"max\": 7.364402864,\n        \"samples\": [\n          0.538102393,\n          0.885640988,\n          -0.556148589\n        ],\n        \"num_unique_values\": 4000,\n        \"semantic_type\": \"\",\n        \"description\": \"\"\n      }\n    },\n    {\n      \"column\": \"Ripeness\",\n      \"properties\": {\n        \"dtype\": \"number\",\n        \"std\": 1.8744267757033417,\n        \"min\": -5.864598918,\n        \"max\": 7.237836684,\n        \"samples\": [\n          1.660099378,\n          -2.191810607,\n          -1.332051678\n        ],\n        \"num_unique_values\": 4000,\n        \"semantic_type\": \"\",\n        \"description\": \"\"\n      }\n    },\n    {\n      \"column\": \"Acidity\",\n      \"properties\": {\n        \"dtype\": \"string\",\n        \"samples\": [\n          \"-0.544761148\",\n          \"1.952776768\",\n          \"1.009155619\"\n        ],\n        \"num_unique_values\": 4000,\n        \"semantic_type\": \"\",\n        \"description\": \"\"\n      }\n    },\n    {\n      \"column\": \"Quality\",\n      \"properties\": {\n        \"dtype\": \"category\",\n        \"samples\": [\n          \"bad\",\n          \"good\"\n        ],\n        \"num_unique_values\": 2,\n        \"semantic_type\": \"\",\n        \"description\": \"\"\n      }\n    }\n  ]\n}"
            }
          },
          "metadata": {},
          "execution_count": 206
        }
      ],
      "source": [
        "apple_df = pd.read_csv('/content/drive/MyDrive/CPE 313 - Advanced Machine Learning and Deep Learning/Datasets/apple_quality.csv')\n",
        "apple_df.drop(4000, axis=0, inplace=True)\n",
        "apple_df"
      ]
    },
    {
      "cell_type": "code",
      "source": [
        "apple_df.dtypes"
      ],
      "metadata": {
        "colab": {
          "base_uri": "https://localhost:8080/"
        },
        "id": "G5EO3-Bm868p",
        "outputId": "1e5176d8-4632-40ca-e40c-096709c983bf"
      },
      "id": "G5EO3-Bm868p",
      "execution_count": 207,
      "outputs": [
        {
          "output_type": "execute_result",
          "data": {
            "text/plain": [
              "A_id           float64\n",
              "Size           float64\n",
              "Weight         float64\n",
              "Sweetness      float64\n",
              "Crunchiness    float64\n",
              "Juiciness      float64\n",
              "Ripeness       float64\n",
              "Acidity         object\n",
              "Quality         object\n",
              "dtype: object"
            ]
          },
          "metadata": {},
          "execution_count": 207
        }
      ]
    },
    {
      "cell_type": "code",
      "source": [
        "apple_df.isnull().sum()"
      ],
      "metadata": {
        "colab": {
          "base_uri": "https://localhost:8080/"
        },
        "id": "2vijJo2f7-dP",
        "outputId": "0288ae02-6f97-407d-c38b-2fc7e71ee7b8"
      },
      "id": "2vijJo2f7-dP",
      "execution_count": 208,
      "outputs": [
        {
          "output_type": "execute_result",
          "data": {
            "text/plain": [
              "A_id           0\n",
              "Size           0\n",
              "Weight         0\n",
              "Sweetness      0\n",
              "Crunchiness    0\n",
              "Juiciness      0\n",
              "Ripeness       0\n",
              "Acidity        0\n",
              "Quality        0\n",
              "dtype: int64"
            ]
          },
          "metadata": {},
          "execution_count": 208
        }
      ]
    },
    {
      "cell_type": "code",
      "source": [
        "apple_df['Quality'] = apple_df['Quality'].replace({'good': 1, 'bad': 0})\n",
        "apple_df['Quality'] = apple_df['Quality'].astype(float)\n",
        "apple_df['Acidity'] = apple_df['Acidity'].astype(float)\n",
        "apple_df.dtypes"
      ],
      "metadata": {
        "colab": {
          "base_uri": "https://localhost:8080/"
        },
        "id": "lw8bmY9Z8HN0",
        "outputId": "dde35d63-19cb-4113-aa2b-68d20a9a1e3a"
      },
      "id": "lw8bmY9Z8HN0",
      "execution_count": 209,
      "outputs": [
        {
          "output_type": "execute_result",
          "data": {
            "text/plain": [
              "A_id           float64\n",
              "Size           float64\n",
              "Weight         float64\n",
              "Sweetness      float64\n",
              "Crunchiness    float64\n",
              "Juiciness      float64\n",
              "Ripeness       float64\n",
              "Acidity        float64\n",
              "Quality        float64\n",
              "dtype: object"
            ]
          },
          "metadata": {},
          "execution_count": 209
        }
      ]
    },
    {
      "cell_type": "code",
      "source": [
        "X = apple_df.iloc[:, :-1].values\n",
        "y = apple_df[\"Quality\"].values"
      ],
      "metadata": {
        "id": "-0GA_MmZ8Lh0"
      },
      "id": "-0GA_MmZ8Lh0",
      "execution_count": 210,
      "outputs": []
    },
    {
      "cell_type": "code",
      "source": [
        "X_train, X_test, y_train, y_test = train_test_split(X, y, test_size=0.5, random_state=40)"
      ],
      "metadata": {
        "id": "OHbnpxFR8MLb"
      },
      "id": "OHbnpxFR8MLb",
      "execution_count": 211,
      "outputs": []
    },
    {
      "cell_type": "code",
      "source": [
        "print(X_train.shape)\n",
        "print(X_test.shape)"
      ],
      "metadata": {
        "colab": {
          "base_uri": "https://localhost:8080/"
        },
        "id": "nb_7l3B3BVv7",
        "outputId": "cd1e0cf3-d5c2-43d5-c6d7-ef7e6a76ec95"
      },
      "id": "nb_7l3B3BVv7",
      "execution_count": 212,
      "outputs": [
        {
          "output_type": "stream",
          "name": "stdout",
          "text": [
            "(2000, 8)\n",
            "(2000, 8)\n"
          ]
        }
      ]
    },
    {
      "cell_type": "code",
      "source": [
        "normalizer = StandardScaler()\n",
        "X_train_norm = normalizer.fit_transform(X_train)\n",
        "X_test_norm = normalizer.transform(X_test)"
      ],
      "metadata": {
        "id": "8olrUBGQV7dT"
      },
      "id": "8olrUBGQV7dT",
      "execution_count": 213,
      "outputs": []
    },
    {
      "cell_type": "code",
      "source": [
        "num_classes = 10\n",
        "y_train = keras.utils.to_categorical(y_train, num_classes)\n",
        "y_test = keras.utils.to_categorical(y_test, num_classes)"
      ],
      "metadata": {
        "id": "D581xsqDWUmW"
      },
      "id": "D581xsqDWUmW",
      "execution_count": 214,
      "outputs": []
    },
    {
      "cell_type": "code",
      "source": [
        "#In this model Dropout technique was used\n",
        "model_1 = Sequential()\n",
        "model_1.add(Dense(400, activation='relu', input_shape=(8,)))\n",
        "model_1.add(Dropout(0.4))\n",
        "model_1.add(Dense(300, activation='relu'))\n",
        "model_1.add(Dropout(0.4))\n",
        "model_1.add(Dense(10, activation='softmax'))\n",
        "model_1.summary()"
      ],
      "metadata": {
        "colab": {
          "base_uri": "https://localhost:8080/"
        },
        "id": "rBX1SBXB8MGh",
        "outputId": "a8c378d4-9b5a-499f-de69-731851626432"
      },
      "id": "rBX1SBXB8MGh",
      "execution_count": 215,
      "outputs": [
        {
          "output_type": "stream",
          "name": "stdout",
          "text": [
            "Model: \"sequential_38\"\n",
            "_________________________________________________________________\n",
            " Layer (type)                Output Shape              Param #   \n",
            "=================================================================\n",
            " dense_114 (Dense)           (None, 400)               3600      \n",
            "                                                                 \n",
            " dropout_64 (Dropout)        (None, 400)               0         \n",
            "                                                                 \n",
            " dense_115 (Dense)           (None, 300)               120300    \n",
            "                                                                 \n",
            " dropout_65 (Dropout)        (None, 300)               0         \n",
            "                                                                 \n",
            " dense_116 (Dense)           (None, 10)                3010      \n",
            "                                                                 \n",
            "=================================================================\n",
            "Total params: 126910 (495.74 KB)\n",
            "Trainable params: 126910 (495.74 KB)\n",
            "Non-trainable params: 0 (0.00 Byte)\n",
            "_________________________________________________________________\n"
          ]
        }
      ]
    },
    {
      "cell_type": "code",
      "source": [
        "model_1.compile(loss='categorical_crossentropy',\n",
        "              optimizer=RMSprop(learning_rate=0.001),\n",
        "              metrics=['accuracy'])\n",
        "hist_1 = model_1.fit(\n",
        "    X_train_norm, y_train,\n",
        "    batch_size=128,\n",
        "    epochs=20,\n",
        "    verbose=1,\n",
        "    validation_data=(X_test_norm, y_test))"
      ],
      "metadata": {
        "colab": {
          "base_uri": "https://localhost:8080/"
        },
        "id": "D5l7TfO48MEZ",
        "outputId": "0836dacb-5f00-4115-f1d7-613681c9b292"
      },
      "id": "D5l7TfO48MEZ",
      "execution_count": 216,
      "outputs": [
        {
          "output_type": "stream",
          "name": "stdout",
          "text": [
            "Epoch 1/20\n",
            "16/16 [==============================] - 2s 46ms/step - loss: 0.8849 - accuracy: 0.6930 - val_loss: 0.4665 - val_accuracy: 0.7975\n",
            "Epoch 2/20\n",
            "16/16 [==============================] - 0s 21ms/step - loss: 0.4680 - accuracy: 0.7915 - val_loss: 0.3894 - val_accuracy: 0.8230\n",
            "Epoch 3/20\n",
            "16/16 [==============================] - 0s 25ms/step - loss: 0.4168 - accuracy: 0.8145 - val_loss: 0.3557 - val_accuracy: 0.8390\n",
            "Epoch 4/20\n",
            "16/16 [==============================] - 0s 24ms/step - loss: 0.3830 - accuracy: 0.8295 - val_loss: 0.3342 - val_accuracy: 0.8440\n",
            "Epoch 5/20\n",
            "16/16 [==============================] - 0s 24ms/step - loss: 0.3641 - accuracy: 0.8380 - val_loss: 0.3167 - val_accuracy: 0.8550\n",
            "Epoch 6/20\n",
            "16/16 [==============================] - 0s 21ms/step - loss: 0.3492 - accuracy: 0.8435 - val_loss: 0.3239 - val_accuracy: 0.8530\n",
            "Epoch 7/20\n",
            "16/16 [==============================] - 0s 13ms/step - loss: 0.3394 - accuracy: 0.8520 - val_loss: 0.3043 - val_accuracy: 0.8660\n",
            "Epoch 8/20\n",
            "16/16 [==============================] - 0s 11ms/step - loss: 0.3306 - accuracy: 0.8540 - val_loss: 0.2958 - val_accuracy: 0.8675\n",
            "Epoch 9/20\n",
            "16/16 [==============================] - 0s 14ms/step - loss: 0.3173 - accuracy: 0.8620 - val_loss: 0.2907 - val_accuracy: 0.8715\n",
            "Epoch 10/20\n",
            "16/16 [==============================] - 0s 13ms/step - loss: 0.3119 - accuracy: 0.8595 - val_loss: 0.2908 - val_accuracy: 0.8750\n",
            "Epoch 11/20\n",
            "16/16 [==============================] - 0s 13ms/step - loss: 0.3124 - accuracy: 0.8595 - val_loss: 0.2843 - val_accuracy: 0.8750\n",
            "Epoch 12/20\n",
            "16/16 [==============================] - 0s 12ms/step - loss: 0.3058 - accuracy: 0.8630 - val_loss: 0.2834 - val_accuracy: 0.8785\n",
            "Epoch 13/20\n",
            "16/16 [==============================] - 0s 11ms/step - loss: 0.3059 - accuracy: 0.8680 - val_loss: 0.2804 - val_accuracy: 0.8715\n",
            "Epoch 14/20\n",
            "16/16 [==============================] - 0s 11ms/step - loss: 0.2994 - accuracy: 0.8740 - val_loss: 0.2773 - val_accuracy: 0.8755\n",
            "Epoch 15/20\n",
            "16/16 [==============================] - 0s 12ms/step - loss: 0.2950 - accuracy: 0.8710 - val_loss: 0.2756 - val_accuracy: 0.8820\n",
            "Epoch 16/20\n",
            "16/16 [==============================] - 0s 12ms/step - loss: 0.2956 - accuracy: 0.8690 - val_loss: 0.2816 - val_accuracy: 0.8705\n",
            "Epoch 17/20\n",
            "16/16 [==============================] - 0s 13ms/step - loss: 0.2916 - accuracy: 0.8790 - val_loss: 0.2692 - val_accuracy: 0.8815\n",
            "Epoch 18/20\n",
            "16/16 [==============================] - 0s 13ms/step - loss: 0.2830 - accuracy: 0.8780 - val_loss: 0.2636 - val_accuracy: 0.8830\n",
            "Epoch 19/20\n",
            "16/16 [==============================] - 0s 11ms/step - loss: 0.2809 - accuracy: 0.8755 - val_loss: 0.2652 - val_accuracy: 0.8855\n",
            "Epoch 20/20\n",
            "16/16 [==============================] - 0s 13ms/step - loss: 0.2700 - accuracy: 0.8825 - val_loss: 0.2703 - val_accuracy: 0.8860\n"
          ]
        }
      ]
    },
    {
      "cell_type": "code",
      "source": [
        "#In this model L2 Regularization and early stopping was used\n",
        "model_2 = Sequential()\n",
        "model_2.add(Dense(40, activation='relu', kernel_regularizer=regularizers.l2(0.0001), input_shape=(8,)))\n",
        "model_2.add(Dense(60, activation='relu', kernel_regularizer=regularizers.l2(0.0001)))\n",
        "model_2.add(Dense(10, activation='softmax'))\n",
        "model_2.summary()"
      ],
      "metadata": {
        "colab": {
          "base_uri": "https://localhost:8080/"
        },
        "id": "nR1kE4LUKoEA",
        "outputId": "fc751e1b-0524-4484-dd00-c25e2c849fdf"
      },
      "id": "nR1kE4LUKoEA",
      "execution_count": 217,
      "outputs": [
        {
          "output_type": "stream",
          "name": "stdout",
          "text": [
            "Model: \"sequential_39\"\n",
            "_________________________________________________________________\n",
            " Layer (type)                Output Shape              Param #   \n",
            "=================================================================\n",
            " dense_117 (Dense)           (None, 40)                360       \n",
            "                                                                 \n",
            " dense_118 (Dense)           (None, 60)                2460      \n",
            "                                                                 \n",
            " dense_119 (Dense)           (None, 10)                610       \n",
            "                                                                 \n",
            "=================================================================\n",
            "Total params: 3430 (13.40 KB)\n",
            "Trainable params: 3430 (13.40 KB)\n",
            "Non-trainable params: 0 (0.00 Byte)\n",
            "_________________________________________________________________\n"
          ]
        }
      ]
    },
    {
      "cell_type": "code",
      "source": [
        "model_2.compile(loss='categorical_crossentropy',\n",
        "              optimizer=RMSprop(learning_rate=0.001),\n",
        "              metrics=['accuracy'])\n",
        "early_stopping = EarlyStopping(monitor='val_loss', patience=3, restore_best_weights=True)\n",
        "hist_2 = model_2.fit(\n",
        "    X_train_norm, y_train,\n",
        "    batch_size=16,\n",
        "    epochs=50,\n",
        "    verbose=1,\n",
        "    callbacks=[early_stopping],\n",
        "    validation_data=(X_test_norm, y_test))"
      ],
      "metadata": {
        "colab": {
          "base_uri": "https://localhost:8080/"
        },
        "id": "EzJ9EpBlJBGg",
        "outputId": "4349b9b8-e643-43cb-93dd-708c4ec524cb"
      },
      "id": "EzJ9EpBlJBGg",
      "execution_count": 218,
      "outputs": [
        {
          "output_type": "stream",
          "name": "stdout",
          "text": [
            "Epoch 1/50\n",
            "125/125 [==============================] - 1s 6ms/step - loss: 0.8164 - accuracy: 0.6935 - val_loss: 0.4661 - val_accuracy: 0.7970\n",
            "Epoch 2/50\n",
            "125/125 [==============================] - 0s 4ms/step - loss: 0.4203 - accuracy: 0.8140 - val_loss: 0.3806 - val_accuracy: 0.8300\n",
            "Epoch 3/50\n",
            "125/125 [==============================] - 1s 5ms/step - loss: 0.3675 - accuracy: 0.8420 - val_loss: 0.3411 - val_accuracy: 0.8590\n",
            "Epoch 4/50\n",
            "125/125 [==============================] - 1s 6ms/step - loss: 0.3402 - accuracy: 0.8595 - val_loss: 0.3236 - val_accuracy: 0.8635\n",
            "Epoch 5/50\n",
            "125/125 [==============================] - 1s 6ms/step - loss: 0.3222 - accuracy: 0.8655 - val_loss: 0.3102 - val_accuracy: 0.8685\n",
            "Epoch 6/50\n",
            "125/125 [==============================] - 1s 5ms/step - loss: 0.3096 - accuracy: 0.8730 - val_loss: 0.3067 - val_accuracy: 0.8690\n",
            "Epoch 7/50\n",
            "125/125 [==============================] - 1s 6ms/step - loss: 0.2990 - accuracy: 0.8710 - val_loss: 0.3089 - val_accuracy: 0.8550\n",
            "Epoch 8/50\n",
            "125/125 [==============================] - 1s 6ms/step - loss: 0.2921 - accuracy: 0.8790 - val_loss: 0.3012 - val_accuracy: 0.8695\n",
            "Epoch 9/50\n",
            "125/125 [==============================] - 1s 5ms/step - loss: 0.2845 - accuracy: 0.8845 - val_loss: 0.2876 - val_accuracy: 0.8745\n",
            "Epoch 10/50\n",
            "125/125 [==============================] - 1s 5ms/step - loss: 0.2791 - accuracy: 0.8840 - val_loss: 0.2839 - val_accuracy: 0.8780\n",
            "Epoch 11/50\n",
            "125/125 [==============================] - 1s 5ms/step - loss: 0.2731 - accuracy: 0.8855 - val_loss: 0.2822 - val_accuracy: 0.8790\n",
            "Epoch 12/50\n",
            "125/125 [==============================] - 0s 4ms/step - loss: 0.2673 - accuracy: 0.8885 - val_loss: 0.2777 - val_accuracy: 0.8815\n",
            "Epoch 13/50\n",
            "125/125 [==============================] - 0s 4ms/step - loss: 0.2630 - accuracy: 0.8955 - val_loss: 0.2746 - val_accuracy: 0.8850\n",
            "Epoch 14/50\n",
            "125/125 [==============================] - 1s 5ms/step - loss: 0.2567 - accuracy: 0.9000 - val_loss: 0.2723 - val_accuracy: 0.8860\n",
            "Epoch 15/50\n",
            "125/125 [==============================] - 0s 4ms/step - loss: 0.2542 - accuracy: 0.8975 - val_loss: 0.2758 - val_accuracy: 0.8775\n",
            "Epoch 16/50\n",
            "125/125 [==============================] - 0s 4ms/step - loss: 0.2483 - accuracy: 0.9035 - val_loss: 0.2767 - val_accuracy: 0.8805\n",
            "Epoch 17/50\n",
            "125/125 [==============================] - 0s 4ms/step - loss: 0.2439 - accuracy: 0.9060 - val_loss: 0.2663 - val_accuracy: 0.8890\n",
            "Epoch 18/50\n",
            "125/125 [==============================] - 1s 5ms/step - loss: 0.2402 - accuracy: 0.9055 - val_loss: 0.2641 - val_accuracy: 0.8860\n",
            "Epoch 19/50\n",
            "125/125 [==============================] - 0s 4ms/step - loss: 0.2355 - accuracy: 0.9120 - val_loss: 0.2659 - val_accuracy: 0.8910\n",
            "Epoch 20/50\n",
            "125/125 [==============================] - 0s 4ms/step - loss: 0.2326 - accuracy: 0.9100 - val_loss: 0.2648 - val_accuracy: 0.8845\n",
            "Epoch 21/50\n",
            "125/125 [==============================] - 1s 4ms/step - loss: 0.2306 - accuracy: 0.9100 - val_loss: 0.2600 - val_accuracy: 0.8900\n",
            "Epoch 22/50\n",
            "125/125 [==============================] - 0s 4ms/step - loss: 0.2279 - accuracy: 0.9150 - val_loss: 0.2567 - val_accuracy: 0.8920\n",
            "Epoch 23/50\n",
            "125/125 [==============================] - 0s 4ms/step - loss: 0.2199 - accuracy: 0.9155 - val_loss: 0.2580 - val_accuracy: 0.8940\n",
            "Epoch 24/50\n",
            "125/125 [==============================] - 0s 4ms/step - loss: 0.2195 - accuracy: 0.9195 - val_loss: 0.2576 - val_accuracy: 0.8960\n",
            "Epoch 25/50\n",
            "125/125 [==============================] - 0s 4ms/step - loss: 0.2174 - accuracy: 0.9220 - val_loss: 0.2547 - val_accuracy: 0.8910\n",
            "Epoch 26/50\n",
            "125/125 [==============================] - 1s 5ms/step - loss: 0.2098 - accuracy: 0.9265 - val_loss: 0.2600 - val_accuracy: 0.8915\n",
            "Epoch 27/50\n",
            "125/125 [==============================] - 1s 5ms/step - loss: 0.2102 - accuracy: 0.9235 - val_loss: 0.2565 - val_accuracy: 0.8935\n",
            "Epoch 28/50\n",
            "125/125 [==============================] - 1s 5ms/step - loss: 0.2056 - accuracy: 0.9310 - val_loss: 0.2527 - val_accuracy: 0.8975\n",
            "Epoch 29/50\n",
            "125/125 [==============================] - 1s 6ms/step - loss: 0.2042 - accuracy: 0.9250 - val_loss: 0.2540 - val_accuracy: 0.8935\n",
            "Epoch 30/50\n",
            "125/125 [==============================] - 1s 5ms/step - loss: 0.2022 - accuracy: 0.9275 - val_loss: 0.2512 - val_accuracy: 0.8955\n",
            "Epoch 31/50\n",
            "125/125 [==============================] - 1s 6ms/step - loss: 0.1987 - accuracy: 0.9300 - val_loss: 0.2519 - val_accuracy: 0.8950\n",
            "Epoch 32/50\n",
            "125/125 [==============================] - 1s 6ms/step - loss: 0.1974 - accuracy: 0.9315 - val_loss: 0.2473 - val_accuracy: 0.8975\n",
            "Epoch 33/50\n",
            "125/125 [==============================] - 0s 4ms/step - loss: 0.1953 - accuracy: 0.9315 - val_loss: 0.2500 - val_accuracy: 0.8955\n",
            "Epoch 34/50\n",
            "125/125 [==============================] - 1s 5ms/step - loss: 0.1925 - accuracy: 0.9295 - val_loss: 0.2464 - val_accuracy: 0.9035\n",
            "Epoch 35/50\n",
            "125/125 [==============================] - 0s 4ms/step - loss: 0.1878 - accuracy: 0.9320 - val_loss: 0.2470 - val_accuracy: 0.9005\n",
            "Epoch 36/50\n",
            "125/125 [==============================] - 0s 4ms/step - loss: 0.1886 - accuracy: 0.9325 - val_loss: 0.2462 - val_accuracy: 0.8945\n",
            "Epoch 37/50\n",
            "125/125 [==============================] - 0s 4ms/step - loss: 0.1835 - accuracy: 0.9355 - val_loss: 0.2441 - val_accuracy: 0.9030\n",
            "Epoch 38/50\n",
            "125/125 [==============================] - 1s 5ms/step - loss: 0.1834 - accuracy: 0.9350 - val_loss: 0.2448 - val_accuracy: 0.9005\n",
            "Epoch 39/50\n",
            "125/125 [==============================] - 1s 5ms/step - loss: 0.1797 - accuracy: 0.9360 - val_loss: 0.2514 - val_accuracy: 0.9010\n",
            "Epoch 40/50\n",
            "125/125 [==============================] - 0s 4ms/step - loss: 0.1784 - accuracy: 0.9390 - val_loss: 0.2499 - val_accuracy: 0.8975\n"
          ]
        }
      ]
    },
    {
      "cell_type": "code",
      "source": [
        "score_1 = model_1.evaluate(X_test_norm, y_test, verbose=0)\n",
        "print('Test loss:', score_1[0])\n",
        "print('Test accuracy:', score_1[1])\n",
        "score_2 = model_2.evaluate(X_test_norm, y_test, verbose=0)\n",
        "print('Test loss:', score_2[0])\n",
        "print('Test accuracy:', score_2[1])"
      ],
      "metadata": {
        "colab": {
          "base_uri": "https://localhost:8080/"
        },
        "id": "gnngLAa32u6A",
        "outputId": "a5be2a41-3005-4ceb-ff79-4282d42e4e44"
      },
      "id": "gnngLAa32u6A",
      "execution_count": 222,
      "outputs": [
        {
          "output_type": "stream",
          "name": "stdout",
          "text": [
            "Test loss: 0.27031999826431274\n",
            "Test accuracy: 0.8859999775886536\n",
            "Test loss: 0.24409149587154388\n",
            "Test accuracy: 0.902999997138977\n"
          ]
        }
      ]
    },
    {
      "cell_type": "markdown",
      "source": [
        "##**Comparison of results of model_1 and model_2:**\n",
        "---\n",
        "Compared to model_1 with an 88% accuracy and 27% validation loss, model_2 seems to have a higher accuracy (90%) and less validation loss (24%). Not a significant amount of change but still yielded a better result than model_1."
      ],
      "metadata": {
        "id": "LBwiwDu52o3j"
      },
      "id": "LBwiwDu52o3j"
    },
    {
      "cell_type": "code",
      "source": [
        "#In this model L2 Regularization was used\n",
        "model_3 = Sequential()\n",
        "model_3.add(Dense(400, activation='relu', kernel_regularizer=regularizers.l2(0.0001), input_shape=(8,)))\n",
        "model_3.add(Dense(300, activation='relu', kernel_regularizer=regularizers.l2(0.0001)))\n",
        "model_3.add(Dense(10, activation='softmax'))\n",
        "model_3.summary()"
      ],
      "metadata": {
        "colab": {
          "base_uri": "https://localhost:8080/"
        },
        "id": "A4ZUsNQuIlBN",
        "outputId": "30ceeee3-ee28-4212-f1d3-bb817bb51364"
      },
      "id": "A4ZUsNQuIlBN",
      "execution_count": 224,
      "outputs": [
        {
          "output_type": "stream",
          "name": "stdout",
          "text": [
            "Model: \"sequential_41\"\n",
            "_________________________________________________________________\n",
            " Layer (type)                Output Shape              Param #   \n",
            "=================================================================\n",
            " dense_123 (Dense)           (None, 400)               3600      \n",
            "                                                                 \n",
            " dense_124 (Dense)           (None, 300)               120300    \n",
            "                                                                 \n",
            " dense_125 (Dense)           (None, 10)                3010      \n",
            "                                                                 \n",
            "=================================================================\n",
            "Total params: 126910 (495.74 KB)\n",
            "Trainable params: 126910 (495.74 KB)\n",
            "Non-trainable params: 0 (0.00 Byte)\n",
            "_________________________________________________________________\n"
          ]
        }
      ]
    },
    {
      "cell_type": "code",
      "source": [
        "model_3.compile(loss='categorical_crossentropy',\n",
        "              optimizer=SGD(learning_rate=0.01), #changed the optimzer to SGD\n",
        "              metrics=['accuracy'])\n",
        "hist_3 = model_3.fit(\n",
        "    X_train_norm, y_train,\n",
        "    batch_size=128,\n",
        "    epochs=24,\n",
        "    verbose=1,\n",
        "    validation_data=(X_test_norm, y_test))"
      ],
      "metadata": {
        "colab": {
          "base_uri": "https://localhost:8080/"
        },
        "id": "9SOqL-l2Ik-5",
        "outputId": "23a06dcf-00e3-41f1-ab8f-7fa78ce46c44"
      },
      "id": "9SOqL-l2Ik-5",
      "execution_count": 238,
      "outputs": [
        {
          "output_type": "stream",
          "name": "stdout",
          "text": [
            "Epoch 1/24\n",
            "16/16 [==============================] - 2s 43ms/step - loss: 0.0741 - accuracy: 0.9895 - val_loss: 0.2111 - val_accuracy: 0.9350\n",
            "Epoch 2/24\n",
            "16/16 [==============================] - 0s 22ms/step - loss: 0.0741 - accuracy: 0.9895 - val_loss: 0.2112 - val_accuracy: 0.9350\n",
            "Epoch 3/24\n",
            "16/16 [==============================] - 0s 25ms/step - loss: 0.0740 - accuracy: 0.9895 - val_loss: 0.2112 - val_accuracy: 0.9345\n",
            "Epoch 4/24\n",
            "16/16 [==============================] - 0s 20ms/step - loss: 0.0740 - accuracy: 0.9895 - val_loss: 0.2113 - val_accuracy: 0.9350\n",
            "Epoch 5/24\n",
            "16/16 [==============================] - 0s 21ms/step - loss: 0.0739 - accuracy: 0.9895 - val_loss: 0.2113 - val_accuracy: 0.9350\n",
            "Epoch 6/24\n",
            "16/16 [==============================] - 0s 20ms/step - loss: 0.0739 - accuracy: 0.9895 - val_loss: 0.2114 - val_accuracy: 0.9345\n",
            "Epoch 7/24\n",
            "16/16 [==============================] - 0s 22ms/step - loss: 0.0738 - accuracy: 0.9895 - val_loss: 0.2114 - val_accuracy: 0.9350\n",
            "Epoch 8/24\n",
            "16/16 [==============================] - 0s 17ms/step - loss: 0.0738 - accuracy: 0.9895 - val_loss: 0.2114 - val_accuracy: 0.9345\n",
            "Epoch 9/24\n",
            "16/16 [==============================] - 0s 18ms/step - loss: 0.0737 - accuracy: 0.9900 - val_loss: 0.2115 - val_accuracy: 0.9340\n",
            "Epoch 10/24\n",
            "16/16 [==============================] - 0s 22ms/step - loss: 0.0737 - accuracy: 0.9900 - val_loss: 0.2115 - val_accuracy: 0.9340\n",
            "Epoch 11/24\n",
            "16/16 [==============================] - 0s 24ms/step - loss: 0.0736 - accuracy: 0.9900 - val_loss: 0.2115 - val_accuracy: 0.9345\n",
            "Epoch 12/24\n",
            "16/16 [==============================] - 1s 36ms/step - loss: 0.0736 - accuracy: 0.9895 - val_loss: 0.2116 - val_accuracy: 0.9350\n",
            "Epoch 13/24\n",
            "16/16 [==============================] - 0s 24ms/step - loss: 0.0735 - accuracy: 0.9895 - val_loss: 0.2116 - val_accuracy: 0.9345\n",
            "Epoch 14/24\n",
            "16/16 [==============================] - 0s 25ms/step - loss: 0.0735 - accuracy: 0.9900 - val_loss: 0.2116 - val_accuracy: 0.9340\n",
            "Epoch 15/24\n",
            "16/16 [==============================] - 0s 27ms/step - loss: 0.0735 - accuracy: 0.9895 - val_loss: 0.2117 - val_accuracy: 0.9345\n",
            "Epoch 16/24\n",
            "16/16 [==============================] - 0s 25ms/step - loss: 0.0734 - accuracy: 0.9900 - val_loss: 0.2117 - val_accuracy: 0.9340\n",
            "Epoch 17/24\n",
            "16/16 [==============================] - 0s 22ms/step - loss: 0.0734 - accuracy: 0.9900 - val_loss: 0.2117 - val_accuracy: 0.9340\n",
            "Epoch 18/24\n",
            "16/16 [==============================] - 0s 23ms/step - loss: 0.0733 - accuracy: 0.9895 - val_loss: 0.2117 - val_accuracy: 0.9345\n",
            "Epoch 19/24\n",
            "16/16 [==============================] - 0s 28ms/step - loss: 0.0733 - accuracy: 0.9900 - val_loss: 0.2117 - val_accuracy: 0.9345\n",
            "Epoch 20/24\n",
            "16/16 [==============================] - 1s 33ms/step - loss: 0.0732 - accuracy: 0.9900 - val_loss: 0.2118 - val_accuracy: 0.9345\n",
            "Epoch 21/24\n",
            "16/16 [==============================] - 1s 43ms/step - loss: 0.0732 - accuracy: 0.9900 - val_loss: 0.2118 - val_accuracy: 0.9345\n",
            "Epoch 22/24\n",
            "16/16 [==============================] - 0s 15ms/step - loss: 0.0731 - accuracy: 0.9900 - val_loss: 0.2119 - val_accuracy: 0.9345\n",
            "Epoch 23/24\n",
            "16/16 [==============================] - 0s 11ms/step - loss: 0.0731 - accuracy: 0.9900 - val_loss: 0.2119 - val_accuracy: 0.9340\n",
            "Epoch 24/24\n",
            "16/16 [==============================] - 0s 9ms/step - loss: 0.0731 - accuracy: 0.9900 - val_loss: 0.2119 - val_accuracy: 0.9340\n"
          ]
        }
      ]
    },
    {
      "cell_type": "markdown",
      "source": [
        "> In this model, I tried experimenting on the batch size, epochs, learning rate, and optimzers used and got a better result than model_1 and model_2."
      ],
      "metadata": {
        "id": "jm_swStT8Cmn"
      },
      "id": "jm_swStT8Cmn"
    },
    {
      "cell_type": "markdown",
      "id": "classified-campaign",
      "metadata": {
        "id": "classified-campaign"
      },
      "source": [
        "#### Conclusion"
      ]
    },
    {
      "cell_type": "markdown",
      "id": "relevant-thunder",
      "metadata": {
        "id": "relevant-thunder"
      },
      "source": [
        "#In this activity, I have learned a few regularization techniques such as the dropout technique which can effectively improve a model performance by addressing overfitting. I've used other techniques such as L2 (Ridge) regularization which encourages the model to learn smaller weights so that it will not rely on a single feature. I also tried early stopping; this method stops the training when the performance of the model stops improving to prevent overfitting. I tried to use the L1 (Lasso) regularization but the results were poor and actually decreased the performance from the previous models I did with other techniques. Overall, I have learned that regularization techniques help prevent overfitting and improve the generalization ability of machine learning models by controlling the complexity of the model and preventing it from memorizing the noise in the training data which enables the model to perform better on unseen data — leading to more reliable and accurate predictions."
      ]
    },
    {
      "cell_type": "markdown",
      "source": [
        "Google Colab Link: https://colab.research.google.com/drive/1sjWOrpkZSi_j-3y_dAcKf1lhBvTfF0_0?usp=sharing"
      ],
      "metadata": {
        "id": "KzLjL-dEhUGW"
      },
      "id": "KzLjL-dEhUGW"
    }
  ],
  "metadata": {
    "kernelspec": {
      "display_name": "Python 3",
      "language": "python",
      "name": "python3"
    },
    "language_info": {
      "codemirror_mode": {
        "name": "ipython",
        "version": 3
      },
      "file_extension": ".py",
      "mimetype": "text/x-python",
      "name": "python",
      "nbconvert_exporter": "python",
      "pygments_lexer": "ipython3",
      "version": "3.7.10"
    },
    "colab": {
      "provenance": []
    }
  },
  "nbformat": 4,
  "nbformat_minor": 5
}