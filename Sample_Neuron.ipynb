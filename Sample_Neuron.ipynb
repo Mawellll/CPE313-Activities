{
  "nbformat": 4,
  "nbformat_minor": 0,
  "metadata": {
    "colab": {
      "provenance": []
    },
    "kernelspec": {
      "name": "python3",
      "display_name": "Python 3"
    },
    "language_info": {
      "name": "python"
    }
  },
  "cells": [
    {
      "cell_type": "code",
      "execution_count": 54,
      "metadata": {
        "id": "DMmr8uiUKt09"
      },
      "outputs": [],
      "source": [
        "import numpy, random, os\n",
        "weights = [random.random(),random.random(),random.random()] #3 random weights"
      ]
    },
    {
      "cell_type": "code",
      "source": [
        "class neuron:\n",
        "    def __init__(self, weights, input):\n",
        "        self.weights = weights\n",
        "        self.input = input\n",
        "\n",
        "    def relu_function(self):\n",
        "      x = self.adder()\n",
        "      if x > 0:\n",
        "        return int(x)\n",
        "      return 0\n",
        "\n",
        "\n",
        "    def adder(self):\n",
        "      output = 0\n",
        "      for i in range (len(self.weights)):\n",
        "        output += self.weights[i]*self.input[i]\n",
        "      return output\n",
        "\n"
      ],
      "metadata": {
        "id": "-gMCRyNMTQ_s"
      },
      "execution_count": 57,
      "outputs": []
    },
    {
      "cell_type": "code",
      "source": [
        "import numpy as np\n",
        "\n",
        "weight = 2 * np.random.random((5, 1)) - 1\n",
        "input = [1,2,3,4,5]\n",
        "\n",
        "n = neuron(weight, input)\n",
        "print(n.relu_function())"
      ],
      "metadata": {
        "colab": {
          "base_uri": "https://localhost:8080/"
        },
        "id": "JUqriC_5VTFl",
        "outputId": "4b4a1c43-4942-44c9-905c-4773de4c128d"
      },
      "execution_count": 60,
      "outputs": [
        {
          "output_type": "stream",
          "name": "stdout",
          "text": [
            "0\n"
          ]
        }
      ]
    },
    {
      "cell_type": "code",
      "source": [],
      "metadata": {
        "id": "_av1VTAvfiyM"
      },
      "execution_count": null,
      "outputs": []
    }
  ]
}
