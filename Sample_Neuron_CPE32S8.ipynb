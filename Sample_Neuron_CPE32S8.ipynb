{
  "nbformat": 4,
  "nbformat_minor": 0,
  "metadata": {
    "colab": {
      "provenance": [],
      "authorship_tag": "ABX9TyPFMPbwtibJvrD3mtbwDV3Q",
      "include_colab_link": true
    },
    "kernelspec": {
      "name": "python3",
      "display_name": "Python 3"
    },
    "language_info": {
      "name": "python"
    }
  },
  "cells": [
    {
      "cell_type": "markdown",
      "metadata": {
        "id": "view-in-github",
        "colab_type": "text"
      },
      "source": [
        "<a href=\"https://colab.research.google.com/github/Mawellll/CPE313-Activities/blob/main/Sample_Neuron_CPE32S8.ipynb\" target=\"_parent\"><img src=\"https://colab.research.google.com/assets/colab-badge.svg\" alt=\"Open In Colab\"/></a>"
      ]
    },
    {
      "cell_type": "code",
      "source": [
        "import numpy as np\n",
        "\n",
        "class neuron:\n",
        "    def __init__(self, weights, input):\n",
        "        self.weights = weights\n",
        "        self.input = input\n",
        "\n",
        "    def relu_function(self): #activation function\n",
        "      x = self.adder()\n",
        "      if x > 0:\n",
        "        return int(x)\n",
        "      return 0\n",
        "\n",
        "\n",
        "    def adder(self): #function for multiplying the input to their weights then outputting the summation of products\n",
        "      output = 0\n",
        "      for i in range (len(self.weights)):\n",
        "        output += self.weights[i]*self.input[i]\n",
        "      return output\n",
        "\n"
      ],
      "metadata": {
        "id": "-gMCRyNMTQ_s"
      },
      "execution_count": 51,
      "outputs": []
    },
    {
      "cell_type": "code",
      "source": [
        "weight = 2 * np.random.random((5, 1)) - 1\n",
        "input = [5,6,7,8,9]\n",
        "\n",
        "n = neuron(weight, input)\n",
        "print('n = ', n.relu_function())"
      ],
      "metadata": {
        "colab": {
          "base_uri": "https://localhost:8080/"
        },
        "id": "JUqriC_5VTFl",
        "outputId": "3041f7ce-9a02-4f1b-e783-5c9206e7c64b"
      },
      "execution_count": 56,
      "outputs": [
        {
          "output_type": "stream",
          "name": "stdout",
          "text": [
            "n =  17\n"
          ]
        }
      ]
    },
    {
      "cell_type": "code",
      "source": [
        "def sigmoidFunction(x):\n",
        "  return 1/(1 + np.exp(-x))\n",
        "\n",
        "class multipleNeuron:\n",
        "  def __init__(self):                                         #Generate random weights\n",
        "    self.weights = 2 * np.random.randint(50, size = (3, 1))\n",
        "\n",
        "  def adderFunction(self, inputs):                            #This calculates the weighted sum and apply the activation function (sigmoidFunction)\n",
        "    output = np.dot(inputs, self.weights)\n",
        "    output = sigmoidFunction(output)\n",
        "    output = np.round(output).astype(np.int32)                #Make sure that outputs are integer\n",
        "    return output\n",
        "\n",
        "network = multipleNeuron() #Create an instance of the network\n",
        "\n",
        "inputs = np.array([5,6,7])\n",
        "output = network.adderFunction(inputs)\n",
        "print(output)\n"
      ],
      "metadata": {
        "colab": {
          "base_uri": "https://localhost:8080/"
        },
        "id": "6bwQLNYxNwsF",
        "outputId": "7e2ab6ad-ee57-45a9-b818-fcd98457c3dd"
      },
      "execution_count": 66,
      "outputs": [
        {
          "output_type": "stream",
          "name": "stdout",
          "text": [
            "[1]\n"
          ]
        }
      ]
    },
    {
      "cell_type": "code",
      "source": [],
      "metadata": {
        "id": "BlNYoN4xc91E"
      },
      "execution_count": null,
      "outputs": []
    }
  ]
}